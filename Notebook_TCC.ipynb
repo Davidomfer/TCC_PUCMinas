{
 "cells": [
  {
   "cell_type": "markdown",
   "metadata": {},
   "source": [
    "# PUC MG - Pontifica Universidade Católica de Minas Gerais\n",
    "\n",
    "### Pós-Graduação em Ciência de Dados e Big Data\n",
    "\n",
    "#### TRABALHO DE CONCLUSÃO DE CURSO\n",
    "\n",
    "#### TÍTULO: Previsão do esgotamento emocional para identificar indivíduos vulneráveis no ambiente de trabalho\n",
    "\n",
    "#### ALUNO: Davi Dominguez Ferreira\n"
   ]
  },
  {
   "cell_type": "code",
   "execution_count": 1,
   "metadata": {},
   "outputs": [],
   "source": [
    "import pandas as pd\n",
    "import matplotlib.pyplot as plt\n",
    "import seaborn as sns\n",
    "from sklearn.model_selection import train_test_split\n",
    "from sklearn.model_selection import GridSearchCV\n",
    "from sklearn.linear_model import LinearRegression\n",
    "from xgboost import XGBRegressor\n",
    "from sklearn.tree import DecisionTreeRegressor\n",
    "from sklearn import metrics\n",
    "\n",
    "sns.set_theme(style=\"whitegrid\")"
   ]
  },
  {
   "cell_type": "code",
   "execution_count": 2,
   "metadata": {},
   "outputs": [],
   "source": [
    "df_kaggle = pd.read_csv(\"https://raw.githubusercontent.com/Davidomfer/TCC_PUCMinas/main/train.csv\",sep = \",\")"
   ]
  },
  {
   "cell_type": "code",
   "execution_count": 3,
   "metadata": {},
   "outputs": [
    {
     "name": "stdout",
     "output_type": "stream",
     "text": [
      "<class 'pandas.core.frame.DataFrame'>\n",
      "RangeIndex: 22750 entries, 0 to 22749\n",
      "Data columns (total 9 columns):\n",
      " #   Column                Non-Null Count  Dtype  \n",
      "---  ------                --------------  -----  \n",
      " 0   Employee ID           22750 non-null  object \n",
      " 1   Date of Joining       22750 non-null  object \n",
      " 2   Gender                22750 non-null  object \n",
      " 3   Company Type          22750 non-null  object \n",
      " 4   WFH Setup Available   22750 non-null  object \n",
      " 5   Designation           22750 non-null  float64\n",
      " 6   Resource Allocation   21369 non-null  float64\n",
      " 7   Mental Fatigue Score  20633 non-null  float64\n",
      " 8   Burn Rate             21626 non-null  float64\n",
      "dtypes: float64(4), object(5)\n",
      "memory usage: 1.6+ MB\n"
     ]
    }
   ],
   "source": [
    "df_kaggle.info()"
   ]
  },
  {
   "cell_type": "code",
   "execution_count": 4,
   "metadata": {},
   "outputs": [
    {
     "data": {
      "text/html": [
       "<div>\n",
       "<style scoped>\n",
       "    .dataframe tbody tr th:only-of-type {\n",
       "        vertical-align: middle;\n",
       "    }\n",
       "\n",
       "    .dataframe tbody tr th {\n",
       "        vertical-align: top;\n",
       "    }\n",
       "\n",
       "    .dataframe thead th {\n",
       "        text-align: right;\n",
       "    }\n",
       "</style>\n",
       "<table border=\"1\" class=\"dataframe\">\n",
       "  <thead>\n",
       "    <tr style=\"text-align: right;\">\n",
       "      <th></th>\n",
       "      <th>Employee ID</th>\n",
       "      <th>Date of Joining</th>\n",
       "      <th>Gender</th>\n",
       "      <th>Company Type</th>\n",
       "      <th>WFH Setup Available</th>\n",
       "      <th>Designation</th>\n",
       "      <th>Resource Allocation</th>\n",
       "      <th>Mental Fatigue Score</th>\n",
       "      <th>Burn Rate</th>\n",
       "    </tr>\n",
       "  </thead>\n",
       "  <tbody>\n",
       "    <tr>\n",
       "      <th>0</th>\n",
       "      <td>fffe32003000360033003200</td>\n",
       "      <td>2008-09-30</td>\n",
       "      <td>Female</td>\n",
       "      <td>Service</td>\n",
       "      <td>No</td>\n",
       "      <td>2.0</td>\n",
       "      <td>3.0</td>\n",
       "      <td>3.8</td>\n",
       "      <td>0.16</td>\n",
       "    </tr>\n",
       "    <tr>\n",
       "      <th>1</th>\n",
       "      <td>fffe3700360033003500</td>\n",
       "      <td>2008-11-30</td>\n",
       "      <td>Male</td>\n",
       "      <td>Service</td>\n",
       "      <td>Yes</td>\n",
       "      <td>1.0</td>\n",
       "      <td>2.0</td>\n",
       "      <td>5.0</td>\n",
       "      <td>0.36</td>\n",
       "    </tr>\n",
       "    <tr>\n",
       "      <th>2</th>\n",
       "      <td>fffe31003300320037003900</td>\n",
       "      <td>2008-03-10</td>\n",
       "      <td>Female</td>\n",
       "      <td>Product</td>\n",
       "      <td>Yes</td>\n",
       "      <td>2.0</td>\n",
       "      <td>NaN</td>\n",
       "      <td>5.8</td>\n",
       "      <td>0.49</td>\n",
       "    </tr>\n",
       "    <tr>\n",
       "      <th>3</th>\n",
       "      <td>fffe32003400380032003900</td>\n",
       "      <td>2008-11-03</td>\n",
       "      <td>Male</td>\n",
       "      <td>Service</td>\n",
       "      <td>Yes</td>\n",
       "      <td>1.0</td>\n",
       "      <td>1.0</td>\n",
       "      <td>2.6</td>\n",
       "      <td>0.20</td>\n",
       "    </tr>\n",
       "    <tr>\n",
       "      <th>4</th>\n",
       "      <td>fffe31003900340031003600</td>\n",
       "      <td>2008-07-24</td>\n",
       "      <td>Female</td>\n",
       "      <td>Service</td>\n",
       "      <td>No</td>\n",
       "      <td>3.0</td>\n",
       "      <td>7.0</td>\n",
       "      <td>6.9</td>\n",
       "      <td>0.52</td>\n",
       "    </tr>\n",
       "    <tr>\n",
       "      <th>...</th>\n",
       "      <td>...</td>\n",
       "      <td>...</td>\n",
       "      <td>...</td>\n",
       "      <td>...</td>\n",
       "      <td>...</td>\n",
       "      <td>...</td>\n",
       "      <td>...</td>\n",
       "      <td>...</td>\n",
       "      <td>...</td>\n",
       "    </tr>\n",
       "    <tr>\n",
       "      <th>22745</th>\n",
       "      <td>fffe31003500370039003100</td>\n",
       "      <td>2008-12-30</td>\n",
       "      <td>Female</td>\n",
       "      <td>Service</td>\n",
       "      <td>No</td>\n",
       "      <td>1.0</td>\n",
       "      <td>3.0</td>\n",
       "      <td>NaN</td>\n",
       "      <td>0.41</td>\n",
       "    </tr>\n",
       "    <tr>\n",
       "      <th>22746</th>\n",
       "      <td>fffe33003000350031003800</td>\n",
       "      <td>2008-01-19</td>\n",
       "      <td>Female</td>\n",
       "      <td>Product</td>\n",
       "      <td>Yes</td>\n",
       "      <td>3.0</td>\n",
       "      <td>6.0</td>\n",
       "      <td>6.7</td>\n",
       "      <td>0.59</td>\n",
       "    </tr>\n",
       "    <tr>\n",
       "      <th>22747</th>\n",
       "      <td>fffe390032003000</td>\n",
       "      <td>2008-11-05</td>\n",
       "      <td>Male</td>\n",
       "      <td>Service</td>\n",
       "      <td>Yes</td>\n",
       "      <td>3.0</td>\n",
       "      <td>7.0</td>\n",
       "      <td>NaN</td>\n",
       "      <td>0.72</td>\n",
       "    </tr>\n",
       "    <tr>\n",
       "      <th>22748</th>\n",
       "      <td>fffe33003300320036003900</td>\n",
       "      <td>2008-01-10</td>\n",
       "      <td>Female</td>\n",
       "      <td>Service</td>\n",
       "      <td>No</td>\n",
       "      <td>2.0</td>\n",
       "      <td>5.0</td>\n",
       "      <td>5.9</td>\n",
       "      <td>0.52</td>\n",
       "    </tr>\n",
       "    <tr>\n",
       "      <th>22749</th>\n",
       "      <td>fffe3400350031003800</td>\n",
       "      <td>2008-01-06</td>\n",
       "      <td>Male</td>\n",
       "      <td>Product</td>\n",
       "      <td>No</td>\n",
       "      <td>3.0</td>\n",
       "      <td>6.0</td>\n",
       "      <td>7.8</td>\n",
       "      <td>0.61</td>\n",
       "    </tr>\n",
       "  </tbody>\n",
       "</table>\n",
       "<p>22750 rows × 9 columns</p>\n",
       "</div>"
      ],
      "text/plain": [
       "                    Employee ID Date of Joining  Gender Company Type  \\\n",
       "0      fffe32003000360033003200      2008-09-30  Female      Service   \n",
       "1          fffe3700360033003500      2008-11-30    Male      Service   \n",
       "2      fffe31003300320037003900      2008-03-10  Female      Product   \n",
       "3      fffe32003400380032003900      2008-11-03    Male      Service   \n",
       "4      fffe31003900340031003600      2008-07-24  Female      Service   \n",
       "...                         ...             ...     ...          ...   \n",
       "22745  fffe31003500370039003100      2008-12-30  Female      Service   \n",
       "22746  fffe33003000350031003800      2008-01-19  Female      Product   \n",
       "22747          fffe390032003000      2008-11-05    Male      Service   \n",
       "22748  fffe33003300320036003900      2008-01-10  Female      Service   \n",
       "22749      fffe3400350031003800      2008-01-06    Male      Product   \n",
       "\n",
       "      WFH Setup Available  Designation  Resource Allocation  \\\n",
       "0                      No          2.0                  3.0   \n",
       "1                     Yes          1.0                  2.0   \n",
       "2                     Yes          2.0                  NaN   \n",
       "3                     Yes          1.0                  1.0   \n",
       "4                      No          3.0                  7.0   \n",
       "...                   ...          ...                  ...   \n",
       "22745                  No          1.0                  3.0   \n",
       "22746                 Yes          3.0                  6.0   \n",
       "22747                 Yes          3.0                  7.0   \n",
       "22748                  No          2.0                  5.0   \n",
       "22749                  No          3.0                  6.0   \n",
       "\n",
       "       Mental Fatigue Score  Burn Rate  \n",
       "0                       3.8       0.16  \n",
       "1                       5.0       0.36  \n",
       "2                       5.8       0.49  \n",
       "3                       2.6       0.20  \n",
       "4                       6.9       0.52  \n",
       "...                     ...        ...  \n",
       "22745                   NaN       0.41  \n",
       "22746                   6.7       0.59  \n",
       "22747                   NaN       0.72  \n",
       "22748                   5.9       0.52  \n",
       "22749                   7.8       0.61  \n",
       "\n",
       "[22750 rows x 9 columns]"
      ]
     },
     "execution_count": 4,
     "metadata": {},
     "output_type": "execute_result"
    }
   ],
   "source": [
    "df_kaggle"
   ]
  },
  {
   "cell_type": "markdown",
   "metadata": {},
   "source": [
    "## Verificando e tratando valores ausentes e duplicados"
   ]
  },
  {
   "cell_type": "code",
   "execution_count": 5,
   "metadata": {},
   "outputs": [
    {
     "data": {
      "text/plain": [
       "Employee ID                0\n",
       "Date of Joining            0\n",
       "Gender                     0\n",
       "Company Type               0\n",
       "WFH Setup Available        0\n",
       "Designation                0\n",
       "Resource Allocation     1381\n",
       "Mental Fatigue Score    2117\n",
       "Burn Rate               1124\n",
       "dtype: int64"
      ]
     },
     "execution_count": 5,
     "metadata": {},
     "output_type": "execute_result"
    }
   ],
   "source": [
    "df_kaggle.isna().sum()"
   ]
  },
  {
   "cell_type": "code",
   "execution_count": 6,
   "metadata": {},
   "outputs": [
    {
     "data": {
      "text/plain": [
       "Employee ID             0.000000\n",
       "Date of Joining         0.000000\n",
       "Gender                  0.000000\n",
       "Company Type            0.000000\n",
       "WFH Setup Available     0.000000\n",
       "Designation             0.000000\n",
       "Resource Allocation     6.070330\n",
       "Mental Fatigue Score    9.305495\n",
       "Burn Rate               4.940659\n",
       "dtype: float64"
      ]
     },
     "execution_count": 6,
     "metadata": {},
     "output_type": "execute_result"
    }
   ],
   "source": [
    "df_kaggle.isna().mean()*100"
   ]
  },
  {
   "cell_type": "code",
   "execution_count": 7,
   "metadata": {},
   "outputs": [
    {
     "data": {
      "text/plain": [
       "Employee ID             0\n",
       "Date of Joining         0\n",
       "Gender                  0\n",
       "Company Type            0\n",
       "WFH Setup Available     0\n",
       "Designation             0\n",
       "Resource Allocation     0\n",
       "Mental Fatigue Score    0\n",
       "Burn Rate               0\n",
       "dtype: int64"
      ]
     },
     "execution_count": 7,
     "metadata": {},
     "output_type": "execute_result"
    }
   ],
   "source": [
    "df_kaggle = df_kaggle.dropna()\n",
    "df_kaggle.isna().sum()"
   ]
  },
  {
   "cell_type": "code",
   "execution_count": 8,
   "metadata": {},
   "outputs": [
    {
     "name": "stdout",
     "output_type": "stream",
     "text": [
      "<class 'pandas.core.frame.DataFrame'>\n",
      "Int64Index: 18590 entries, 0 to 22749\n",
      "Data columns (total 9 columns):\n",
      " #   Column                Non-Null Count  Dtype  \n",
      "---  ------                --------------  -----  \n",
      " 0   Employee ID           18590 non-null  object \n",
      " 1   Date of Joining       18590 non-null  object \n",
      " 2   Gender                18590 non-null  object \n",
      " 3   Company Type          18590 non-null  object \n",
      " 4   WFH Setup Available   18590 non-null  object \n",
      " 5   Designation           18590 non-null  float64\n",
      " 6   Resource Allocation   18590 non-null  float64\n",
      " 7   Mental Fatigue Score  18590 non-null  float64\n",
      " 8   Burn Rate             18590 non-null  float64\n",
      "dtypes: float64(4), object(5)\n",
      "memory usage: 1.4+ MB\n"
     ]
    }
   ],
   "source": [
    "df_kaggle = df_kaggle.drop_duplicates('Employee ID')\n",
    "df_kaggle.info()"
   ]
  },
  {
   "cell_type": "code",
   "execution_count": 9,
   "metadata": {},
   "outputs": [
    {
     "data": {
      "text/html": [
       "<div>\n",
       "<style scoped>\n",
       "    .dataframe tbody tr th:only-of-type {\n",
       "        vertical-align: middle;\n",
       "    }\n",
       "\n",
       "    .dataframe tbody tr th {\n",
       "        vertical-align: top;\n",
       "    }\n",
       "\n",
       "    .dataframe thead th {\n",
       "        text-align: right;\n",
       "    }\n",
       "</style>\n",
       "<table border=\"1\" class=\"dataframe\">\n",
       "  <thead>\n",
       "    <tr style=\"text-align: right;\">\n",
       "      <th></th>\n",
       "      <th>count</th>\n",
       "      <th>mean</th>\n",
       "      <th>std</th>\n",
       "      <th>min</th>\n",
       "      <th>25%</th>\n",
       "      <th>50%</th>\n",
       "      <th>75%</th>\n",
       "      <th>max</th>\n",
       "    </tr>\n",
       "  </thead>\n",
       "  <tbody>\n",
       "    <tr>\n",
       "      <th>Designation</th>\n",
       "      <td>18590.0</td>\n",
       "      <td>2.179398</td>\n",
       "      <td>1.133148</td>\n",
       "      <td>0.0</td>\n",
       "      <td>1.00</td>\n",
       "      <td>2.00</td>\n",
       "      <td>3.00</td>\n",
       "      <td>5.0</td>\n",
       "    </tr>\n",
       "    <tr>\n",
       "      <th>Resource Allocation</th>\n",
       "      <td>18590.0</td>\n",
       "      <td>4.486552</td>\n",
       "      <td>2.044848</td>\n",
       "      <td>1.0</td>\n",
       "      <td>3.00</td>\n",
       "      <td>4.00</td>\n",
       "      <td>6.00</td>\n",
       "      <td>10.0</td>\n",
       "    </tr>\n",
       "    <tr>\n",
       "      <th>Mental Fatigue Score</th>\n",
       "      <td>18590.0</td>\n",
       "      <td>5.732173</td>\n",
       "      <td>1.920547</td>\n",
       "      <td>0.0</td>\n",
       "      <td>4.60</td>\n",
       "      <td>5.90</td>\n",
       "      <td>7.10</td>\n",
       "      <td>10.0</td>\n",
       "    </tr>\n",
       "    <tr>\n",
       "      <th>Burn Rate</th>\n",
       "      <td>18590.0</td>\n",
       "      <td>0.452444</td>\n",
       "      <td>0.197848</td>\n",
       "      <td>0.0</td>\n",
       "      <td>0.32</td>\n",
       "      <td>0.45</td>\n",
       "      <td>0.59</td>\n",
       "      <td>1.0</td>\n",
       "    </tr>\n",
       "  </tbody>\n",
       "</table>\n",
       "</div>"
      ],
      "text/plain": [
       "                        count      mean       std  min   25%   50%   75%   max\n",
       "Designation           18590.0  2.179398  1.133148  0.0  1.00  2.00  3.00   5.0\n",
       "Resource Allocation   18590.0  4.486552  2.044848  1.0  3.00  4.00  6.00  10.0\n",
       "Mental Fatigue Score  18590.0  5.732173  1.920547  0.0  4.60  5.90  7.10  10.0\n",
       "Burn Rate             18590.0  0.452444  0.197848  0.0  0.32  0.45  0.59   1.0"
      ]
     },
     "execution_count": 9,
     "metadata": {},
     "output_type": "execute_result"
    }
   ],
   "source": [
    "df_kaggle.describe().T"
   ]
  },
  {
   "cell_type": "code",
   "execution_count": 10,
   "metadata": {},
   "outputs": [
    {
     "data": {
      "text/html": [
       "<div>\n",
       "<style scoped>\n",
       "    .dataframe tbody tr th:only-of-type {\n",
       "        vertical-align: middle;\n",
       "    }\n",
       "\n",
       "    .dataframe tbody tr th {\n",
       "        vertical-align: top;\n",
       "    }\n",
       "\n",
       "    .dataframe thead th {\n",
       "        text-align: right;\n",
       "    }\n",
       "</style>\n",
       "<table border=\"1\" class=\"dataframe\">\n",
       "  <thead>\n",
       "    <tr style=\"text-align: right;\">\n",
       "      <th></th>\n",
       "      <th>Employee ID</th>\n",
       "      <th>Date of Joining</th>\n",
       "      <th>Gender</th>\n",
       "      <th>Company Type</th>\n",
       "      <th>WFH Setup Available</th>\n",
       "      <th>Designation</th>\n",
       "      <th>Resource Allocation</th>\n",
       "      <th>Mental Fatigue Score</th>\n",
       "      <th>Burn Rate</th>\n",
       "    </tr>\n",
       "  </thead>\n",
       "  <tbody>\n",
       "    <tr>\n",
       "      <th>0</th>\n",
       "      <td>fffe32003000360033003200</td>\n",
       "      <td>2008-09-30</td>\n",
       "      <td>Female</td>\n",
       "      <td>Service</td>\n",
       "      <td>No</td>\n",
       "      <td>2.0</td>\n",
       "      <td>3.0</td>\n",
       "      <td>3.8</td>\n",
       "      <td>0.16</td>\n",
       "    </tr>\n",
       "    <tr>\n",
       "      <th>1</th>\n",
       "      <td>fffe3700360033003500</td>\n",
       "      <td>2008-11-30</td>\n",
       "      <td>Male</td>\n",
       "      <td>Service</td>\n",
       "      <td>Yes</td>\n",
       "      <td>1.0</td>\n",
       "      <td>2.0</td>\n",
       "      <td>5.0</td>\n",
       "      <td>0.36</td>\n",
       "    </tr>\n",
       "    <tr>\n",
       "      <th>3</th>\n",
       "      <td>fffe32003400380032003900</td>\n",
       "      <td>2008-11-03</td>\n",
       "      <td>Male</td>\n",
       "      <td>Service</td>\n",
       "      <td>Yes</td>\n",
       "      <td>1.0</td>\n",
       "      <td>1.0</td>\n",
       "      <td>2.6</td>\n",
       "      <td>0.20</td>\n",
       "    </tr>\n",
       "    <tr>\n",
       "      <th>4</th>\n",
       "      <td>fffe31003900340031003600</td>\n",
       "      <td>2008-07-24</td>\n",
       "      <td>Female</td>\n",
       "      <td>Service</td>\n",
       "      <td>No</td>\n",
       "      <td>3.0</td>\n",
       "      <td>7.0</td>\n",
       "      <td>6.9</td>\n",
       "      <td>0.52</td>\n",
       "    </tr>\n",
       "    <tr>\n",
       "      <th>5</th>\n",
       "      <td>fffe3300350037003500</td>\n",
       "      <td>2008-11-26</td>\n",
       "      <td>Male</td>\n",
       "      <td>Product</td>\n",
       "      <td>Yes</td>\n",
       "      <td>2.0</td>\n",
       "      <td>4.0</td>\n",
       "      <td>3.6</td>\n",
       "      <td>0.29</td>\n",
       "    </tr>\n",
       "    <tr>\n",
       "      <th>...</th>\n",
       "      <td>...</td>\n",
       "      <td>...</td>\n",
       "      <td>...</td>\n",
       "      <td>...</td>\n",
       "      <td>...</td>\n",
       "      <td>...</td>\n",
       "      <td>...</td>\n",
       "      <td>...</td>\n",
       "      <td>...</td>\n",
       "    </tr>\n",
       "    <tr>\n",
       "      <th>22743</th>\n",
       "      <td>fffe3300390030003600</td>\n",
       "      <td>2008-12-15</td>\n",
       "      <td>Female</td>\n",
       "      <td>Product</td>\n",
       "      <td>Yes</td>\n",
       "      <td>1.0</td>\n",
       "      <td>3.0</td>\n",
       "      <td>6.0</td>\n",
       "      <td>0.48</td>\n",
       "    </tr>\n",
       "    <tr>\n",
       "      <th>22744</th>\n",
       "      <td>fffe32003500370033003200</td>\n",
       "      <td>2008-05-27</td>\n",
       "      <td>Male</td>\n",
       "      <td>Product</td>\n",
       "      <td>No</td>\n",
       "      <td>3.0</td>\n",
       "      <td>7.0</td>\n",
       "      <td>6.2</td>\n",
       "      <td>0.54</td>\n",
       "    </tr>\n",
       "    <tr>\n",
       "      <th>22746</th>\n",
       "      <td>fffe33003000350031003800</td>\n",
       "      <td>2008-01-19</td>\n",
       "      <td>Female</td>\n",
       "      <td>Product</td>\n",
       "      <td>Yes</td>\n",
       "      <td>3.0</td>\n",
       "      <td>6.0</td>\n",
       "      <td>6.7</td>\n",
       "      <td>0.59</td>\n",
       "    </tr>\n",
       "    <tr>\n",
       "      <th>22748</th>\n",
       "      <td>fffe33003300320036003900</td>\n",
       "      <td>2008-01-10</td>\n",
       "      <td>Female</td>\n",
       "      <td>Service</td>\n",
       "      <td>No</td>\n",
       "      <td>2.0</td>\n",
       "      <td>5.0</td>\n",
       "      <td>5.9</td>\n",
       "      <td>0.52</td>\n",
       "    </tr>\n",
       "    <tr>\n",
       "      <th>22749</th>\n",
       "      <td>fffe3400350031003800</td>\n",
       "      <td>2008-01-06</td>\n",
       "      <td>Male</td>\n",
       "      <td>Product</td>\n",
       "      <td>No</td>\n",
       "      <td>3.0</td>\n",
       "      <td>6.0</td>\n",
       "      <td>7.8</td>\n",
       "      <td>0.61</td>\n",
       "    </tr>\n",
       "  </tbody>\n",
       "</table>\n",
       "<p>18590 rows × 9 columns</p>\n",
       "</div>"
      ],
      "text/plain": [
       "                    Employee ID Date of Joining  Gender Company Type  \\\n",
       "0      fffe32003000360033003200      2008-09-30  Female      Service   \n",
       "1          fffe3700360033003500      2008-11-30    Male      Service   \n",
       "3      fffe32003400380032003900      2008-11-03    Male      Service   \n",
       "4      fffe31003900340031003600      2008-07-24  Female      Service   \n",
       "5          fffe3300350037003500      2008-11-26    Male      Product   \n",
       "...                         ...             ...     ...          ...   \n",
       "22743      fffe3300390030003600      2008-12-15  Female      Product   \n",
       "22744  fffe32003500370033003200      2008-05-27    Male      Product   \n",
       "22746  fffe33003000350031003800      2008-01-19  Female      Product   \n",
       "22748  fffe33003300320036003900      2008-01-10  Female      Service   \n",
       "22749      fffe3400350031003800      2008-01-06    Male      Product   \n",
       "\n",
       "      WFH Setup Available  Designation  Resource Allocation  \\\n",
       "0                      No          2.0                  3.0   \n",
       "1                     Yes          1.0                  2.0   \n",
       "3                     Yes          1.0                  1.0   \n",
       "4                      No          3.0                  7.0   \n",
       "5                     Yes          2.0                  4.0   \n",
       "...                   ...          ...                  ...   \n",
       "22743                 Yes          1.0                  3.0   \n",
       "22744                  No          3.0                  7.0   \n",
       "22746                 Yes          3.0                  6.0   \n",
       "22748                  No          2.0                  5.0   \n",
       "22749                  No          3.0                  6.0   \n",
       "\n",
       "       Mental Fatigue Score  Burn Rate  \n",
       "0                       3.8       0.16  \n",
       "1                       5.0       0.36  \n",
       "3                       2.6       0.20  \n",
       "4                       6.9       0.52  \n",
       "5                       3.6       0.29  \n",
       "...                     ...        ...  \n",
       "22743                   6.0       0.48  \n",
       "22744                   6.2       0.54  \n",
       "22746                   6.7       0.59  \n",
       "22748                   5.9       0.52  \n",
       "22749                   7.8       0.61  \n",
       "\n",
       "[18590 rows x 9 columns]"
      ]
     },
     "execution_count": 10,
     "metadata": {},
     "output_type": "execute_result"
    }
   ],
   "source": [
    "df_kaggle"
   ]
  },
  {
   "cell_type": "markdown",
   "metadata": {},
   "source": [
    "## Descrição das Variáveis e visuzaliação dos dados"
   ]
  },
  {
   "attachments": {
    "image-6.png": {
     "image/png": "[encoded data removed]"
    }
   },
   "cell_type": "markdown",
   "metadata": {},
   "source": [
    "![image-6.png](attachment:image-6.png)"
   ]
  },
  {
   "cell_type": "code",
   "execution_count": 11,
   "metadata": {},
   "outputs": [
    {
     "data": {
      "image/png": "[encoded data removed]",
      "text/plain": [
       "<Figure size 720x360 with 1 Axes>"
      ]
     },
     "metadata": {},
     "output_type": "display_data"
    }
   ],
   "source": [
    "plt.figure(figsize=(10,5))\n",
    "df_kaggle['Gender'].value_counts().plot(kind='pie', autopct='%1.0f%%')\n",
    "plt.show()"
   ]
  },
  {
   "cell_type": "code",
   "execution_count": 12,
   "metadata": {},
   "outputs": [
    {
     "data": {
      "image/png": "[encoded data removed]",
      "text/plain": [
       "<Figure size 720x360 with 1 Axes>"
      ]
     },
     "metadata": {},
     "output_type": "display_data"
    }
   ],
   "source": [
    "plt.figure(figsize=(10,5))\n",
    "df_kaggle['Company Type'].value_counts().plot(kind='pie', autopct='%1.0f%%')\n",
    "plt.show()"
   ]
  },
  {
   "cell_type": "code",
   "execution_count": 13,
   "metadata": {},
   "outputs": [
    {
     "data": {
      "image/png": "[encoded data removed]",
      "text/plain": [
       "<Figure size 720x360 with 1 Axes>"
      ]
     },
     "metadata": {},
     "output_type": "display_data"
    }
   ],
   "source": [
    "plt.figure(figsize=(10,5))\n",
    "df_kaggle['WFH Setup Available'].value_counts().plot(kind='pie', autopct='%1.0f%%')\n",
    "plt.show()"
   ]
  },
  {
   "cell_type": "code",
   "execution_count": 14,
   "metadata": {},
   "outputs": [
    {
     "data": {
      "image/png": "[encoded data removed]",
      "text/plain": [
       "<Figure size 720x504 with 1 Axes>"
      ]
     },
     "metadata": {},
     "output_type": "display_data"
    }
   ],
   "source": [
    "plt.figure(figsize=(10,7))\n",
    "sns.countplot(data=df_kaggle, x='Resource Allocation', order=[1,2,3,4,5,6,7,8,9,10]);"
   ]
  },
  {
   "cell_type": "code",
   "execution_count": 15,
   "metadata": {},
   "outputs": [
    {
     "data": {
      "image/png": "[encoded data removed]",
      "text/plain": [
       "<Figure size 720x504 with 1 Axes>"
      ]
     },
     "metadata": {},
     "output_type": "display_data"
    }
   ],
   "source": [
    "plt.figure(figsize=(10,7))\n",
    "sns.scatterplot(data=df_kaggle, x='Mental Fatigue Score', y='Resource Allocation');"
   ]
  },
  {
   "cell_type": "markdown",
   "metadata": {
    "scrolled": true
   },
   "source": [
    "## Processo de encoding dos dados"
   ]
  },
  {
   "cell_type": "code",
   "execution_count": 16,
   "metadata": {
    "scrolled": true
   },
   "outputs": [],
   "source": [
    "df_train = df_kaggle.copy()\n",
    "\n",
    "\n",
    "df_train['Gender'] = df_train['Gender'].map({'Female': 1, 'Male': 0})\n",
    "df_train['Company Type'] = df_train['Company Type'].map({'Service': 1, 'Product': 0})\n",
    "df_train['WFH Setup Available'] = df_train['WFH Setup Available'].map({'Yes': 1, 'No': 0})"
   ]
  },
  {
   "cell_type": "code",
   "execution_count": 17,
   "metadata": {},
   "outputs": [],
   "source": [
    "df_train.drop(['Employee ID','Date of Joining'],axis=1,inplace=True)"
   ]
  },
  {
   "cell_type": "code",
   "execution_count": 18,
   "metadata": {
    "scrolled": false
   },
   "outputs": [
    {
     "data": {
      "text/html": [
       "<div>\n",
       "<style scoped>\n",
       "    .dataframe tbody tr th:only-of-type {\n",
       "        vertical-align: middle;\n",
       "    }\n",
       "\n",
       "    .dataframe tbody tr th {\n",
       "        vertical-align: top;\n",
       "    }\n",
       "\n",
       "    .dataframe thead th {\n",
       "        text-align: right;\n",
       "    }\n",
       "</style>\n",
       "<table border=\"1\" class=\"dataframe\">\n",
       "  <thead>\n",
       "    <tr style=\"text-align: right;\">\n",
       "      <th></th>\n",
       "      <th>Gender</th>\n",
       "      <th>Company Type</th>\n",
       "      <th>WFH Setup Available</th>\n",
       "      <th>Designation</th>\n",
       "      <th>Resource Allocation</th>\n",
       "      <th>Mental Fatigue Score</th>\n",
       "      <th>Burn Rate</th>\n",
       "    </tr>\n",
       "  </thead>\n",
       "  <tbody>\n",
       "    <tr>\n",
       "      <th>0</th>\n",
       "      <td>1</td>\n",
       "      <td>1</td>\n",
       "      <td>0</td>\n",
       "      <td>2.0</td>\n",
       "      <td>3.0</td>\n",
       "      <td>3.8</td>\n",
       "      <td>0.16</td>\n",
       "    </tr>\n",
       "    <tr>\n",
       "      <th>1</th>\n",
       "      <td>0</td>\n",
       "      <td>1</td>\n",
       "      <td>1</td>\n",
       "      <td>1.0</td>\n",
       "      <td>2.0</td>\n",
       "      <td>5.0</td>\n",
       "      <td>0.36</td>\n",
       "    </tr>\n",
       "    <tr>\n",
       "      <th>3</th>\n",
       "      <td>0</td>\n",
       "      <td>1</td>\n",
       "      <td>1</td>\n",
       "      <td>1.0</td>\n",
       "      <td>1.0</td>\n",
       "      <td>2.6</td>\n",
       "      <td>0.20</td>\n",
       "    </tr>\n",
       "    <tr>\n",
       "      <th>4</th>\n",
       "      <td>1</td>\n",
       "      <td>1</td>\n",
       "      <td>0</td>\n",
       "      <td>3.0</td>\n",
       "      <td>7.0</td>\n",
       "      <td>6.9</td>\n",
       "      <td>0.52</td>\n",
       "    </tr>\n",
       "    <tr>\n",
       "      <th>5</th>\n",
       "      <td>0</td>\n",
       "      <td>0</td>\n",
       "      <td>1</td>\n",
       "      <td>2.0</td>\n",
       "      <td>4.0</td>\n",
       "      <td>3.6</td>\n",
       "      <td>0.29</td>\n",
       "    </tr>\n",
       "  </tbody>\n",
       "</table>\n",
       "</div>"
      ],
      "text/plain": [
       "   Gender  Company Type  WFH Setup Available  Designation  \\\n",
       "0       1             1                    0          2.0   \n",
       "1       0             1                    1          1.0   \n",
       "3       0             1                    1          1.0   \n",
       "4       1             1                    0          3.0   \n",
       "5       0             0                    1          2.0   \n",
       "\n",
       "   Resource Allocation  Mental Fatigue Score  Burn Rate  \n",
       "0                  3.0                   3.8       0.16  \n",
       "1                  2.0                   5.0       0.36  \n",
       "3                  1.0                   2.6       0.20  \n",
       "4                  7.0                   6.9       0.52  \n",
       "5                  4.0                   3.6       0.29  "
      ]
     },
     "execution_count": 18,
     "metadata": {},
     "output_type": "execute_result"
    }
   ],
   "source": [
    "df_train.head(5)"
   ]
  },
  {
   "cell_type": "code",
   "execution_count": 19,
   "metadata": {},
   "outputs": [
    {
     "data": {
      "text/plain": [
       "Gender                    int64\n",
       "Company Type              int64\n",
       "WFH Setup Available       int64\n",
       "Designation             float64\n",
       "Resource Allocation     float64\n",
       "Mental Fatigue Score    float64\n",
       "Burn Rate               float64\n",
       "dtype: object"
      ]
     },
     "execution_count": 19,
     "metadata": {},
     "output_type": "execute_result"
    }
   ],
   "source": [
    "df_train.dtypes"
   ]
  },
  {
   "cell_type": "code",
   "execution_count": 20,
   "metadata": {},
   "outputs": [
    {
     "data": {
      "image/png": "[encoded data removed]",
      "text/plain": [
       "<Figure size 792x504 with 2 Axes>"
      ]
     },
     "metadata": {},
     "output_type": "display_data"
    }
   ],
   "source": [
    "plt.figure(figsize=(11,7))\n",
    "corr = df_train.corr()\n",
    "sns.heatmap(corr, vmin=-1, center=0, vmax=1, annot=True);"
   ]
  },
  {
   "cell_type": "code",
   "execution_count": 21,
   "metadata": {},
   "outputs": [
    {
     "data": {
      "image/png": "[encoded data removed]",
      "text/plain": [
       "<Figure size 720x504 with 1 Axes>"
      ]
     },
     "metadata": {},
     "output_type": "display_data"
    }
   ],
   "source": [
    "plt.figure(figsize=(10,7))\n",
    "sns.scatterplot(data=df_train, x='Mental Fatigue Score', y='Burn Rate');"
   ]
  },
  {
   "cell_type": "markdown",
   "metadata": {},
   "source": [
    "## Criando amostragem dos dados/ Pré processameno"
   ]
  },
  {
   "cell_type": "code",
   "execution_count": 22,
   "metadata": {},
   "outputs": [],
   "source": [
    "y= df_train.pop('Burn Rate')\n",
    "X= df_train"
   ]
  },
  {
   "cell_type": "code",
   "execution_count": 23,
   "metadata": {},
   "outputs": [
    {
     "name": "stdout",
     "output_type": "stream",
     "text": [
      "train data size: (14872, 6)\n",
      "test data size: (3718, 6)\n"
     ]
    }
   ],
   "source": [
    "X_train,X_test,y_train,y_test = train_test_split(X,y,train_size=0.8,random_state= 42)\n",
    "\n",
    "print(\"train data size:\",X_train.shape)\n",
    "print(\"test data size:\",X_test.shape)"
   ]
  },
  {
   "cell_type": "markdown",
   "metadata": {},
   "source": [
    "## Análise Preditiva"
   ]
  },
  {
   "cell_type": "code",
   "execution_count": 24,
   "metadata": {},
   "outputs": [],
   "source": [
    "#Regresão linear\n",
    "lr_model = LinearRegression()\n",
    "\n",
    "param_grid_lr = {\n",
    "    'fit_intercept': [True, False],\n",
    "    'normalize': [True, False]\n",
    "}"
   ]
  },
  {
   "cell_type": "code",
   "execution_count": 25,
   "metadata": {},
   "outputs": [
    {
     "name": "stdout",
     "output_type": "stream",
     "text": [
      "Melhores parâmetros: {'fit_intercept': True, 'normalize': False}\n"
     ]
    }
   ],
   "source": [
    "grid_search_lr = GridSearchCV(lr_model, param_grid_lr, cv=5, scoring='neg_mean_squared_error')\n",
    "grid_search_lr.fit(X_train, y_train)\n",
    "print(\"Melhores parâmetros:\", grid_search_lr.best_params_)"
   ]
  },
  {
   "cell_type": "code",
   "execution_count": 26,
   "metadata": {},
   "outputs": [
    {
     "name": "stdout",
     "output_type": "stream",
     "text": [
      "MAE:0.046\n",
      "RMSE:0.003\n",
      "R2:0.92\n"
     ]
    }
   ],
   "source": [
    "best_model_lr = grid_search_lr.best_estimator_\n",
    "y_pred1 = best_model_lr.predict(X_test)\n",
    "\n",
    "# Avaliando o modelo\n",
    "print('MAE:{:.3f}'.format( metrics.mean_absolute_error(y_test, y_pred1)))\n",
    "print('RMSE:{:.3f}'.format( metrics.mean_squared_error(y_test, y_pred1)))\n",
    "print('R2:{:.2f}'.format( metrics.r2_score(y_test, y_pred1)))"
   ]
  },
  {
   "cell_type": "code",
   "execution_count": 27,
   "metadata": {
    "scrolled": true
   },
   "outputs": [],
   "source": [
    "#Árvore de decisão e que utiliza uma estrutura de Gradient boosting\n",
    "xgb_model = XGBRegressor()\n",
    "\n",
    "param_grid_xgb = {'learning_rate': [0.01, 0.1, 0.5],\n",
    "              'max_depth': [3, 5, 7],\n",
    "              'n_estimators': [100, 500, 1000]}"
   ]
  },
  {
   "cell_type": "code",
   "execution_count": 28,
   "metadata": {},
   "outputs": [
    {
     "name": "stdout",
     "output_type": "stream",
     "text": [
      "Best Parameters:  {'learning_rate': 0.01, 'max_depth': 5, 'n_estimators': 1000}\n"
     ]
    }
   ],
   "source": [
    "grid_search_xgb = GridSearchCV(xgb_model, param_grid_xgb, cv=5, scoring='neg_mean_squared_error')\n",
    "grid_search_xgb.fit(X_train, y_train)\n",
    "print(\"Best Parameters: \", grid_search_xgb.best_params_)"
   ]
  },
  {
   "cell_type": "code",
   "execution_count": 29,
   "metadata": {},
   "outputs": [
    {
     "name": "stdout",
     "output_type": "stream",
     "text": [
      "MAE:0.043\n",
      "RMSE:0.003\n",
      "R2:0.93\n"
     ]
    }
   ],
   "source": [
    "best_model_xgb = grid_search_xgb.best_estimator_\n",
    "y_pred2 = best_model_xgb.predict(X_test)\n",
    "\n",
    "# Avaliando o modelo\n",
    "print('MAE:{:.3f}'.format( metrics.mean_absolute_error(y_test, y_pred2)))\n",
    "print('RMSE:{:.3f}'.format( metrics.mean_squared_error(y_test, y_pred2)))\n",
    "print('R2:{:.2f}'.format( metrics.r2_score(y_test, y_pred2)))"
   ]
  },
  {
   "cell_type": "code",
   "execution_count": 30,
   "metadata": {},
   "outputs": [],
   "source": [
    "#Árvore de decisão\n",
    "dt_model = DecisionTreeRegressor()\n",
    "\n",
    "param_grid_dt = {\n",
    "    'max_depth': [3, 5, 7],\n",
    "    'min_samples_split': [2, 5, 10],\n",
    "    'min_samples_leaf': [1, 2, 4],\n",
    "}\n",
    "\n"
   ]
  },
  {
   "cell_type": "code",
   "execution_count": 31,
   "metadata": {},
   "outputs": [
    {
     "name": "stdout",
     "output_type": "stream",
     "text": [
      "Melhores parâmetros: {'max_depth': 7, 'min_samples_leaf': 2, 'min_samples_split': 2}\n"
     ]
    }
   ],
   "source": [
    "grid_search_dt = GridSearchCV(dt_model, param_grid_dt, cv=5, scoring='neg_mean_squared_error')\n",
    "grid_search_dt.fit(X_train, y_train)\n",
    "print(\"Melhores parâmetros:\", grid_search_dt.best_params_)"
   ]
  },
  {
   "cell_type": "code",
   "execution_count": 32,
   "metadata": {},
   "outputs": [
    {
     "name": "stdout",
     "output_type": "stream",
     "text": [
      "MAE:0.044\n",
      "RMSE:0.003\n",
      "R2:0.92\n"
     ]
    }
   ],
   "source": [
    "best_model_dt = grid_search_dt.best_estimator_\n",
    "y_pred3 = best_model_dt.predict(X_test)\n",
    "\n",
    "# Avaliando o modelo\n",
    "print('MAE:{:.3f}'.format( metrics.mean_absolute_error(y_test, y_pred3)))\n",
    "print('RMSE:{:.3f}'.format( metrics.mean_squared_error(y_test, y_pred3)))\n",
    "print('R2:{:.2f}'.format( metrics.r2_score(y_test, y_pred3)))"
   ]
  },
  {
   "cell_type": "code",
   "execution_count": 33,
   "metadata": {},
   "outputs": [
    {
     "data": {
      "image/png": "[encoded data removed]",
      "text/plain": [
       "<Figure size 432x288 with 1 Axes>"
      ]
     },
     "metadata": {},
     "output_type": "display_data"
    }
   ],
   "source": [
    "feature_important = best_model_xgb.get_booster().get_score(importance_type='weight')\n",
    "keys = list(feature_important.keys())\n",
    "values = list(feature_important.values())\n",
    "\n",
    "data = pd.DataFrame(data=values, index=keys, columns=[\"score\"]).sort_values(by = \"score\",ascending= True)\n",
    "data.plot(kind='barh')\n",
    "plt.legend().set_visible(False)"
   ]
  },
  {
   "cell_type": "markdown",
   "metadata": {},
   "source": [
    " "
   ]
  },
  {
   "cell_type": "markdown",
   "metadata": {},
   "source": [
    "_________________________________________________________________________________________________________________________\n",
    "# Analisando datasets de uma empresa de TI e uma do ramo de Oil&Gás"
   ]
  },
  {
   "cell_type": "markdown",
   "metadata": {},
   "source": [
    "## Dataset TI"
   ]
  },
  {
   "cell_type": "code",
   "execution_count": 34,
   "metadata": {},
   "outputs": [],
   "source": [
    "df_form_ti = pd.read_csv(\"https://raw.githubusercontent.com/Davidomfer/TCC_PUCMinas/main/form_ti.csv\",sep = \";\")"
   ]
  },
  {
   "cell_type": "code",
   "execution_count": 35,
   "metadata": {},
   "outputs": [
    {
     "name": "stdout",
     "output_type": "stream",
     "text": [
      "(115, 16)\n"
     ]
    },
    {
     "data": {
      "text/html": [
       "<div>\n",
       "<style scoped>\n",
       "    .dataframe tbody tr th:only-of-type {\n",
       "        vertical-align: middle;\n",
       "    }\n",
       "\n",
       "    .dataframe tbody tr th {\n",
       "        vertical-align: top;\n",
       "    }\n",
       "\n",
       "    .dataframe thead th {\n",
       "        text-align: right;\n",
       "    }\n",
       "</style>\n",
       "<table border=\"1\" class=\"dataframe\">\n",
       "  <thead>\n",
       "    <tr style=\"text-align: right;\">\n",
       "      <th></th>\n",
       "      <th>ID</th>\n",
       "      <th>idade</th>\n",
       "      <th>estado</th>\n",
       "      <th>data_inicio</th>\n",
       "      <th>identidade_genero</th>\n",
       "      <th>orientacao_sexual</th>\n",
       "      <th>onde_esta_atuando</th>\n",
       "      <th>dias_remoto</th>\n",
       "      <th>dias_escritorio</th>\n",
       "      <th>nivel</th>\n",
       "      <th>tempo_demandas</th>\n",
       "      <th>confortavel</th>\n",
       "      <th>fadiga_mental</th>\n",
       "      <th>neurodiversidade</th>\n",
       "      <th>qual_neurodiversidade</th>\n",
       "      <th>treinamento_ie</th>\n",
       "    </tr>\n",
       "  </thead>\n",
       "  <tbody>\n",
       "    <tr>\n",
       "      <th>0</th>\n",
       "      <td>1</td>\n",
       "      <td>25 a 29</td>\n",
       "      <td>Alagoas</td>\n",
       "      <td>31/01/2022</td>\n",
       "      <td>Homem Cisgênero</td>\n",
       "      <td>Heterossexual</td>\n",
       "      <td>Projeto Integrado</td>\n",
       "      <td>5.0</td>\n",
       "      <td>0.0</td>\n",
       "      <td>Junior</td>\n",
       "      <td>10 horas</td>\n",
       "      <td>Sim</td>\n",
       "      <td>7.0</td>\n",
       "      <td>Sim</td>\n",
       "      <td>Transtorno do déficit de atenção com hiperativ...</td>\n",
       "      <td>NaN</td>\n",
       "    </tr>\n",
       "    <tr>\n",
       "      <th>1</th>\n",
       "      <td>2</td>\n",
       "      <td>30 a 39</td>\n",
       "      <td>São Paulo</td>\n",
       "      <td>03/01/2022</td>\n",
       "      <td>Homem Cisgênero</td>\n",
       "      <td>Heterossexual</td>\n",
       "      <td>Projeto Integrado</td>\n",
       "      <td>5.0</td>\n",
       "      <td>0.0</td>\n",
       "      <td>Junior</td>\n",
       "      <td>8 horas</td>\n",
       "      <td>Sim</td>\n",
       "      <td>4.0</td>\n",
       "      <td>Sim</td>\n",
       "      <td>Transtorno do déficit de atenção com hiperativ...</td>\n",
       "      <td>NaN</td>\n",
       "    </tr>\n",
       "    <tr>\n",
       "      <th>2</th>\n",
       "      <td>3</td>\n",
       "      <td>40 a 49</td>\n",
       "      <td>São Paulo</td>\n",
       "      <td>21/12/2021</td>\n",
       "      <td>Mulher Cisgênero</td>\n",
       "      <td>Heterossexual</td>\n",
       "      <td>Projeto Integrado</td>\n",
       "      <td>5.0</td>\n",
       "      <td>0.0</td>\n",
       "      <td>Junior</td>\n",
       "      <td>10 horas</td>\n",
       "      <td>Sim</td>\n",
       "      <td>8.0</td>\n",
       "      <td>Nao</td>\n",
       "      <td>Nenhuma</td>\n",
       "      <td>Sim</td>\n",
       "    </tr>\n",
       "    <tr>\n",
       "      <th>3</th>\n",
       "      <td>4</td>\n",
       "      <td>25 a 29</td>\n",
       "      <td>Espírito Santo</td>\n",
       "      <td>17/01/2022</td>\n",
       "      <td>Homem Cisgênero</td>\n",
       "      <td>Heterossexual</td>\n",
       "      <td>Projeto Integrado</td>\n",
       "      <td>5.0</td>\n",
       "      <td>0.0</td>\n",
       "      <td>Junior</td>\n",
       "      <td>8 horas</td>\n",
       "      <td>Não</td>\n",
       "      <td>10.0</td>\n",
       "      <td>Nao</td>\n",
       "      <td>Nenhuma</td>\n",
       "      <td>Sim</td>\n",
       "    </tr>\n",
       "    <tr>\n",
       "      <th>4</th>\n",
       "      <td>5</td>\n",
       "      <td>40 a 49</td>\n",
       "      <td>São Paulo</td>\n",
       "      <td>07/02/2022</td>\n",
       "      <td>Homem Cisgênero</td>\n",
       "      <td>Heterossexual</td>\n",
       "      <td>Projeto Integrado</td>\n",
       "      <td>5.0</td>\n",
       "      <td>0.0</td>\n",
       "      <td>Junior</td>\n",
       "      <td>2 horas</td>\n",
       "      <td>Sim</td>\n",
       "      <td>6.0</td>\n",
       "      <td>Nao</td>\n",
       "      <td>Nenhuma</td>\n",
       "      <td>Sim</td>\n",
       "    </tr>\n",
       "  </tbody>\n",
       "</table>\n",
       "</div>"
      ],
      "text/plain": [
       "  ID    idade          estado data_inicio identidade_genero orientacao_sexual  \\\n",
       "0  1  25 a 29         Alagoas  31/01/2022   Homem Cisgênero     Heterossexual   \n",
       "1  2  30 a 39       São Paulo  03/01/2022   Homem Cisgênero     Heterossexual   \n",
       "2  3  40 a 49       São Paulo  21/12/2021  Mulher Cisgênero     Heterossexual   \n",
       "3  4  25 a 29  Espírito Santo  17/01/2022   Homem Cisgênero     Heterossexual   \n",
       "4  5  40 a 49       São Paulo  07/02/2022   Homem Cisgênero     Heterossexual   \n",
       "\n",
       "   onde_esta_atuando  dias_remoto  dias_escritorio   nivel tempo_demandas  \\\n",
       "0  Projeto Integrado          5.0              0.0  Junior       10 horas   \n",
       "1  Projeto Integrado          5.0              0.0  Junior        8 horas   \n",
       "2  Projeto Integrado          5.0              0.0  Junior       10 horas   \n",
       "3  Projeto Integrado          5.0              0.0  Junior        8 horas   \n",
       "4  Projeto Integrado          5.0              0.0  Junior        2 horas   \n",
       "\n",
       "  confortavel  fadiga_mental neurodiversidade  \\\n",
       "0         Sim            7.0              Sim   \n",
       "1         Sim            4.0              Sim   \n",
       "2         Sim            8.0              Nao   \n",
       "3         Não           10.0              Nao   \n",
       "4         Sim            6.0              Nao   \n",
       "\n",
       "                               qual_neurodiversidade treinamento_ie  \n",
       "0  Transtorno do déficit de atenção com hiperativ...            NaN  \n",
       "1  Transtorno do déficit de atenção com hiperativ...            NaN  \n",
       "2                                            Nenhuma            Sim  \n",
       "3                                            Nenhuma            Sim  \n",
       "4                                            Nenhuma            Sim  "
      ]
     },
     "execution_count": 35,
     "metadata": {},
     "output_type": "execute_result"
    }
   ],
   "source": [
    "print(df_form_ti.shape)\n",
    "df_form_ti.head(5)"
   ]
  },
  {
   "cell_type": "code",
   "execution_count": 36,
   "metadata": {},
   "outputs": [],
   "source": [
    "df_form_ti.drop(['data_inicio','orientacao_sexual','dias_remoto','dias_escritorio'\n",
    "                 ,'neurodiversidade','qual_neurodiversidade','treinamento_ie'],axis=1,inplace=True)"
   ]
  },
  {
   "cell_type": "code",
   "execution_count": 37,
   "metadata": {},
   "outputs": [
    {
     "data": {
      "text/plain": [
       "ID                   0\n",
       "idade                1\n",
       "estado               1\n",
       "identidade_genero    1\n",
       "onde_esta_atuando    1\n",
       "nivel                1\n",
       "tempo_demandas       1\n",
       "confortavel          1\n",
       "fadiga_mental        1\n",
       "dtype: int64"
      ]
     },
     "execution_count": 37,
     "metadata": {},
     "output_type": "execute_result"
    }
   ],
   "source": [
    "df_form_ti.isna().sum()"
   ]
  },
  {
   "cell_type": "code",
   "execution_count": 38,
   "metadata": {},
   "outputs": [],
   "source": [
    "df_form_ti = df_form_ti.dropna()"
   ]
  },
  {
   "cell_type": "code",
   "execution_count": 39,
   "metadata": {},
   "outputs": [
    {
     "data": {
      "text/plain": [
       "ID                    object\n",
       "idade                 object\n",
       "estado                object\n",
       "identidade_genero     object\n",
       "onde_esta_atuando     object\n",
       "nivel                 object\n",
       "tempo_demandas        object\n",
       "confortavel           object\n",
       "fadiga_mental        float64\n",
       "dtype: object"
      ]
     },
     "execution_count": 39,
     "metadata": {},
     "output_type": "execute_result"
    }
   ],
   "source": [
    "df_form_ti.dtypes"
   ]
  },
  {
   "cell_type": "code",
   "execution_count": 40,
   "metadata": {},
   "outputs": [
    {
     "data": {
      "text/plain": [
       "Sim    107\n",
       "Não      7\n",
       "Name: confortavel, dtype: int64"
      ]
     },
     "execution_count": 40,
     "metadata": {},
     "output_type": "execute_result"
    }
   ],
   "source": [
    "df_form_ti['confortavel'].value_counts()"
   ]
  },
  {
   "cell_type": "code",
   "execution_count": 41,
   "metadata": {
    "scrolled": false
   },
   "outputs": [
    {
     "data": {
      "image/png": "[encoded data removed]",
      "text/plain": [
       "<Figure size 720x504 with 1 Axes>"
      ]
     },
     "metadata": {},
     "output_type": "display_data"
    }
   ],
   "source": [
    "plt.figure(figsize=(10,7))\n",
    "sns.countplot(data=df_form_ti, x='idade',order = ['18 a 24','25 a 29','30 a 39', '40 a 49', '50 a 59', '60 a 70']);"
   ]
  },
  {
   "cell_type": "code",
   "execution_count": 42,
   "metadata": {},
   "outputs": [
    {
     "data": {
      "image/png": "[encoded data removed]",
      "text/plain": [
       "<Figure size 1800x504 with 1 Axes>"
      ]
     },
     "metadata": {},
     "output_type": "display_data"
    }
   ],
   "source": [
    "plt.figure(figsize=(25,7))\n",
    "sns.countplot(data=df_form_ti, x='estado');"
   ]
  },
  {
   "cell_type": "code",
   "execution_count": 43,
   "metadata": {},
   "outputs": [
    {
     "data": {
      "text/plain": [
       "<AxesSubplot:xlabel='confortavel', ylabel='fadiga_mental'>"
      ]
     },
     "execution_count": 43,
     "metadata": {},
     "output_type": "execute_result"
    },
    {
     "data": {
      "image/png": "[encoded data removed]",
      "text/plain": [
       "<Figure size 504x504 with 1 Axes>"
      ]
     },
     "metadata": {},
     "output_type": "display_data"
    }
   ],
   "source": [
    "plt.figure(figsize=(7,7))\n",
    "sns.boxplot(data=df_form_ti, x=\"confortavel\", y=\"fadiga_mental\")"
   ]
  },
  {
   "cell_type": "code",
   "execution_count": 44,
   "metadata": {},
   "outputs": [],
   "source": [
    "df_form_ti.drop(['idade','estado'],axis=1,inplace=True)"
   ]
  },
  {
   "cell_type": "code",
   "execution_count": 45,
   "metadata": {},
   "outputs": [
    {
     "data": {
      "text/plain": [
       "ID                   114\n",
       "identidade_genero      6\n",
       "onde_esta_atuando      7\n",
       "nivel                  4\n",
       "tempo_demandas        11\n",
       "confortavel            2\n",
       "fadiga_mental         10\n",
       "dtype: int64"
      ]
     },
     "execution_count": 45,
     "metadata": {},
     "output_type": "execute_result"
    }
   ],
   "source": [
    "df_form_ti.nunique()"
   ]
  },
  {
   "cell_type": "code",
   "execution_count": 46,
   "metadata": {},
   "outputs": [
    {
     "data": {
      "text/plain": [
       "array(['Homem Cisgênero', 'Mulher Cisgênero', 'Não sei responder',\n",
       "       'Mulher Transgênero', 'Queer', 'Outro'], dtype=object)"
      ]
     },
     "execution_count": 46,
     "metadata": {},
     "output_type": "execute_result"
    }
   ],
   "source": [
    "df_form_ti['identidade_genero'].unique()"
   ]
  },
  {
   "cell_type": "code",
   "execution_count": 47,
   "metadata": {},
   "outputs": [
    {
     "data": {
      "text/plain": [
       "Homem Cisgênero       73\n",
       "Mulher Cisgênero      32\n",
       "Não sei responder      3\n",
       "Outro                  3\n",
       "Mulher Transgênero     2\n",
       "Queer                  1\n",
       "Name: identidade_genero, dtype: int64"
      ]
     },
     "execution_count": 47,
     "metadata": {},
     "output_type": "execute_result"
    }
   ],
   "source": [
    "df_form_ti['identidade_genero'].value_counts()"
   ]
  },
  {
   "cell_type": "code",
   "execution_count": 48,
   "metadata": {},
   "outputs": [],
   "source": [
    "df_form_ti['identidade_genero'] = df_form_ti['identidade_genero'].replace({'Não sei responder':'Outro','Queer':'Outro'})"
   ]
  },
  {
   "cell_type": "code",
   "execution_count": 49,
   "metadata": {},
   "outputs": [
    {
     "data": {
      "text/html": [
       "<div>\n",
       "<style scoped>\n",
       "    .dataframe tbody tr th:only-of-type {\n",
       "        vertical-align: middle;\n",
       "    }\n",
       "\n",
       "    .dataframe tbody tr th {\n",
       "        vertical-align: top;\n",
       "    }\n",
       "\n",
       "    .dataframe thead th {\n",
       "        text-align: right;\n",
       "    }\n",
       "</style>\n",
       "<table border=\"1\" class=\"dataframe\">\n",
       "  <thead>\n",
       "    <tr style=\"text-align: right;\">\n",
       "      <th></th>\n",
       "      <th>ID</th>\n",
       "      <th>identidade_genero</th>\n",
       "      <th>onde_esta_atuando</th>\n",
       "      <th>nivel</th>\n",
       "      <th>tempo_demandas</th>\n",
       "      <th>confortavel</th>\n",
       "      <th>fadiga_mental</th>\n",
       "      <th>Gender</th>\n",
       "      <th>col1</th>\n",
       "    </tr>\n",
       "  </thead>\n",
       "  <tbody>\n",
       "    <tr>\n",
       "      <th>0</th>\n",
       "      <td>1</td>\n",
       "      <td>Homem Cisgênero</td>\n",
       "      <td>Projeto Integrado</td>\n",
       "      <td>Junior</td>\n",
       "      <td>10</td>\n",
       "      <td>Sim</td>\n",
       "      <td>7.0</td>\n",
       "      <td>Homem</td>\n",
       "      <td>Cisgênero</td>\n",
       "    </tr>\n",
       "    <tr>\n",
       "      <th>1</th>\n",
       "      <td>2</td>\n",
       "      <td>Homem Cisgênero</td>\n",
       "      <td>Projeto Integrado</td>\n",
       "      <td>Junior</td>\n",
       "      <td>8</td>\n",
       "      <td>Sim</td>\n",
       "      <td>4.0</td>\n",
       "      <td>Homem</td>\n",
       "      <td>Cisgênero</td>\n",
       "    </tr>\n",
       "    <tr>\n",
       "      <th>2</th>\n",
       "      <td>3</td>\n",
       "      <td>Mulher Cisgênero</td>\n",
       "      <td>Projeto Integrado</td>\n",
       "      <td>Junior</td>\n",
       "      <td>10</td>\n",
       "      <td>Sim</td>\n",
       "      <td>8.0</td>\n",
       "      <td>Mulher</td>\n",
       "      <td>Cisgênero</td>\n",
       "    </tr>\n",
       "    <tr>\n",
       "      <th>3</th>\n",
       "      <td>4</td>\n",
       "      <td>Homem Cisgênero</td>\n",
       "      <td>Projeto Integrado</td>\n",
       "      <td>Junior</td>\n",
       "      <td>8</td>\n",
       "      <td>Não</td>\n",
       "      <td>10.0</td>\n",
       "      <td>Homem</td>\n",
       "      <td>Cisgênero</td>\n",
       "    </tr>\n",
       "    <tr>\n",
       "      <th>4</th>\n",
       "      <td>5</td>\n",
       "      <td>Homem Cisgênero</td>\n",
       "      <td>Projeto Integrado</td>\n",
       "      <td>Junior</td>\n",
       "      <td>2</td>\n",
       "      <td>Sim</td>\n",
       "      <td>6.0</td>\n",
       "      <td>Homem</td>\n",
       "      <td>Cisgênero</td>\n",
       "    </tr>\n",
       "  </tbody>\n",
       "</table>\n",
       "</div>"
      ],
      "text/plain": [
       "  ID identidade_genero  onde_esta_atuando   nivel tempo_demandas confortavel  \\\n",
       "0  1   Homem Cisgênero  Projeto Integrado  Junior             10         Sim   \n",
       "1  2   Homem Cisgênero  Projeto Integrado  Junior             8          Sim   \n",
       "2  3  Mulher Cisgênero  Projeto Integrado  Junior             10         Sim   \n",
       "3  4   Homem Cisgênero  Projeto Integrado  Junior             8          Não   \n",
       "4  5   Homem Cisgênero  Projeto Integrado  Junior             2          Sim   \n",
       "\n",
       "   fadiga_mental  Gender       col1  \n",
       "0            7.0   Homem  Cisgênero  \n",
       "1            4.0   Homem  Cisgênero  \n",
       "2            8.0  Mulher  Cisgênero  \n",
       "3           10.0   Homem  Cisgênero  \n",
       "4            6.0   Homem  Cisgênero  "
      ]
     },
     "execution_count": 49,
     "metadata": {},
     "output_type": "execute_result"
    }
   ],
   "source": [
    "df_form_ti[['Gender', 'col1']] = df_form_ti['identidade_genero'].str.split(' ',expand=True)\n",
    "df_form_ti['tempo_demandas'] = df_form_ti['tempo_demandas'].str.slice(0,2)\n",
    "df_form_ti.head(5)"
   ]
  },
  {
   "cell_type": "code",
   "execution_count": 50,
   "metadata": {},
   "outputs": [
    {
     "data": {
      "text/plain": [
       "Homem Cisgênero       73\n",
       "Mulher Cisgênero      32\n",
       "Outro                  7\n",
       "Mulher Transgênero     2\n",
       "Name: identidade_genero, dtype: int64"
      ]
     },
     "execution_count": 50,
     "metadata": {},
     "output_type": "execute_result"
    }
   ],
   "source": [
    "df_form_ti['identidade_genero'].value_counts()"
   ]
  },
  {
   "cell_type": "code",
   "execution_count": 51,
   "metadata": {},
   "outputs": [],
   "source": [
    "df_form_ti.drop(['identidade_genero','col1'],axis=1,inplace=True)"
   ]
  },
  {
   "cell_type": "code",
   "execution_count": 52,
   "metadata": {},
   "outputs": [
    {
     "data": {
      "text/html": [
       "<div>\n",
       "<style scoped>\n",
       "    .dataframe tbody tr th:only-of-type {\n",
       "        vertical-align: middle;\n",
       "    }\n",
       "\n",
       "    .dataframe tbody tr th {\n",
       "        vertical-align: top;\n",
       "    }\n",
       "\n",
       "    .dataframe thead th {\n",
       "        text-align: right;\n",
       "    }\n",
       "</style>\n",
       "<table border=\"1\" class=\"dataframe\">\n",
       "  <thead>\n",
       "    <tr style=\"text-align: right;\">\n",
       "      <th></th>\n",
       "      <th>ID</th>\n",
       "      <th>onde_esta_atuando</th>\n",
       "      <th>nivel</th>\n",
       "      <th>tempo_demandas</th>\n",
       "      <th>confortavel</th>\n",
       "      <th>fadiga_mental</th>\n",
       "      <th>Gender</th>\n",
       "    </tr>\n",
       "  </thead>\n",
       "  <tbody>\n",
       "    <tr>\n",
       "      <th>0</th>\n",
       "      <td>1</td>\n",
       "      <td>Projeto Integrado</td>\n",
       "      <td>Junior</td>\n",
       "      <td>10</td>\n",
       "      <td>Sim</td>\n",
       "      <td>7.0</td>\n",
       "      <td>Homem</td>\n",
       "    </tr>\n",
       "    <tr>\n",
       "      <th>1</th>\n",
       "      <td>2</td>\n",
       "      <td>Projeto Integrado</td>\n",
       "      <td>Junior</td>\n",
       "      <td>8</td>\n",
       "      <td>Sim</td>\n",
       "      <td>4.0</td>\n",
       "      <td>Homem</td>\n",
       "    </tr>\n",
       "    <tr>\n",
       "      <th>2</th>\n",
       "      <td>3</td>\n",
       "      <td>Projeto Integrado</td>\n",
       "      <td>Junior</td>\n",
       "      <td>10</td>\n",
       "      <td>Sim</td>\n",
       "      <td>8.0</td>\n",
       "      <td>Mulher</td>\n",
       "    </tr>\n",
       "    <tr>\n",
       "      <th>3</th>\n",
       "      <td>4</td>\n",
       "      <td>Projeto Integrado</td>\n",
       "      <td>Junior</td>\n",
       "      <td>8</td>\n",
       "      <td>Não</td>\n",
       "      <td>10.0</td>\n",
       "      <td>Homem</td>\n",
       "    </tr>\n",
       "    <tr>\n",
       "      <th>4</th>\n",
       "      <td>5</td>\n",
       "      <td>Projeto Integrado</td>\n",
       "      <td>Junior</td>\n",
       "      <td>2</td>\n",
       "      <td>Sim</td>\n",
       "      <td>6.0</td>\n",
       "      <td>Homem</td>\n",
       "    </tr>\n",
       "    <tr>\n",
       "      <th>...</th>\n",
       "      <td>...</td>\n",
       "      <td>...</td>\n",
       "      <td>...</td>\n",
       "      <td>...</td>\n",
       "      <td>...</td>\n",
       "      <td>...</td>\n",
       "      <td>...</td>\n",
       "    </tr>\n",
       "    <tr>\n",
       "      <th>109</th>\n",
       "      <td>110</td>\n",
       "      <td>Laboratórios</td>\n",
       "      <td>Trainee</td>\n",
       "      <td>8</td>\n",
       "      <td>Sim</td>\n",
       "      <td>5.0</td>\n",
       "      <td>Outro</td>\n",
       "    </tr>\n",
       "    <tr>\n",
       "      <th>110</th>\n",
       "      <td>111</td>\n",
       "      <td>Squad</td>\n",
       "      <td>Pleno</td>\n",
       "      <td>8</td>\n",
       "      <td>Sim</td>\n",
       "      <td>3.0</td>\n",
       "      <td>Homem</td>\n",
       "    </tr>\n",
       "    <tr>\n",
       "      <th>111</th>\n",
       "      <td>112</td>\n",
       "      <td>Laboratórios</td>\n",
       "      <td>Trainee</td>\n",
       "      <td>8</td>\n",
       "      <td>Sim</td>\n",
       "      <td>8.0</td>\n",
       "      <td>Homem</td>\n",
       "    </tr>\n",
       "    <tr>\n",
       "      <th>112</th>\n",
       "      <td>113</td>\n",
       "      <td>Laboratórios</td>\n",
       "      <td>Trainee</td>\n",
       "      <td>7</td>\n",
       "      <td>Sim</td>\n",
       "      <td>2.0</td>\n",
       "      <td>Homem</td>\n",
       "    </tr>\n",
       "    <tr>\n",
       "      <th>113</th>\n",
       "      <td>114</td>\n",
       "      <td>Laboratórios</td>\n",
       "      <td>Trainee</td>\n",
       "      <td>4</td>\n",
       "      <td>Sim</td>\n",
       "      <td>4.0</td>\n",
       "      <td>Mulher</td>\n",
       "    </tr>\n",
       "  </tbody>\n",
       "</table>\n",
       "<p>114 rows × 7 columns</p>\n",
       "</div>"
      ],
      "text/plain": [
       "      ID  onde_esta_atuando    nivel tempo_demandas confortavel  \\\n",
       "0      1  Projeto Integrado   Junior             10         Sim   \n",
       "1      2  Projeto Integrado   Junior             8          Sim   \n",
       "2      3  Projeto Integrado   Junior             10         Sim   \n",
       "3      4  Projeto Integrado   Junior             8          Não   \n",
       "4      5  Projeto Integrado   Junior             2          Sim   \n",
       "..   ...                ...      ...            ...         ...   \n",
       "109  110       Laboratórios  Trainee             8          Sim   \n",
       "110  111              Squad    Pleno             8          Sim   \n",
       "111  112       Laboratórios  Trainee             8          Sim   \n",
       "112  113       Laboratórios  Trainee             7          Sim   \n",
       "113  114       Laboratórios  Trainee             4          Sim   \n",
       "\n",
       "     fadiga_mental  Gender  \n",
       "0              7.0   Homem  \n",
       "1              4.0   Homem  \n",
       "2              8.0  Mulher  \n",
       "3             10.0   Homem  \n",
       "4              6.0   Homem  \n",
       "..             ...     ...  \n",
       "109            5.0   Outro  \n",
       "110            3.0   Homem  \n",
       "111            8.0   Homem  \n",
       "112            2.0   Homem  \n",
       "113            4.0  Mulher  \n",
       "\n",
       "[114 rows x 7 columns]"
      ]
     },
     "execution_count": 52,
     "metadata": {},
     "output_type": "execute_result"
    }
   ],
   "source": [
    "df_form_ti"
   ]
  },
  {
   "cell_type": "code",
   "execution_count": 53,
   "metadata": {},
   "outputs": [
    {
     "data": {
      "text/plain": [
       "array(['Projeto Integrado', 'Produto Interno', 'Squad', 'Laboratórios',\n",
       "       'Projeto Interno', 'Projeto de Cliente', 'Produto do Cliente'],\n",
       "      dtype=object)"
      ]
     },
     "execution_count": 53,
     "metadata": {},
     "output_type": "execute_result"
    }
   ],
   "source": [
    "df_form_ti['onde_esta_atuando'].unique()"
   ]
  },
  {
   "cell_type": "code",
   "execution_count": 54,
   "metadata": {},
   "outputs": [
    {
     "data": {
      "text/html": [
       "<div>\n",
       "<style scoped>\n",
       "    .dataframe tbody tr th:only-of-type {\n",
       "        vertical-align: middle;\n",
       "    }\n",
       "\n",
       "    .dataframe tbody tr th {\n",
       "        vertical-align: top;\n",
       "    }\n",
       "\n",
       "    .dataframe thead th {\n",
       "        text-align: right;\n",
       "    }\n",
       "</style>\n",
       "<table border=\"1\" class=\"dataframe\">\n",
       "  <thead>\n",
       "    <tr style=\"text-align: right;\">\n",
       "      <th></th>\n",
       "      <th>ID</th>\n",
       "      <th>onde_esta_atuando</th>\n",
       "      <th>nivel</th>\n",
       "      <th>tempo_demandas</th>\n",
       "      <th>confortavel</th>\n",
       "      <th>fadiga_mental</th>\n",
       "      <th>Gender</th>\n",
       "    </tr>\n",
       "  </thead>\n",
       "  <tbody>\n",
       "    <tr>\n",
       "      <th>0</th>\n",
       "      <td>1</td>\n",
       "      <td>Serviço</td>\n",
       "      <td>Junior</td>\n",
       "      <td>10</td>\n",
       "      <td>Sim</td>\n",
       "      <td>7.0</td>\n",
       "      <td>Homem</td>\n",
       "    </tr>\n",
       "    <tr>\n",
       "      <th>1</th>\n",
       "      <td>2</td>\n",
       "      <td>Serviço</td>\n",
       "      <td>Junior</td>\n",
       "      <td>8</td>\n",
       "      <td>Sim</td>\n",
       "      <td>4.0</td>\n",
       "      <td>Homem</td>\n",
       "    </tr>\n",
       "    <tr>\n",
       "      <th>2</th>\n",
       "      <td>3</td>\n",
       "      <td>Serviço</td>\n",
       "      <td>Junior</td>\n",
       "      <td>10</td>\n",
       "      <td>Sim</td>\n",
       "      <td>8.0</td>\n",
       "      <td>Mulher</td>\n",
       "    </tr>\n",
       "    <tr>\n",
       "      <th>3</th>\n",
       "      <td>4</td>\n",
       "      <td>Serviço</td>\n",
       "      <td>Junior</td>\n",
       "      <td>8</td>\n",
       "      <td>Não</td>\n",
       "      <td>10.0</td>\n",
       "      <td>Homem</td>\n",
       "    </tr>\n",
       "    <tr>\n",
       "      <th>4</th>\n",
       "      <td>5</td>\n",
       "      <td>Serviço</td>\n",
       "      <td>Junior</td>\n",
       "      <td>2</td>\n",
       "      <td>Sim</td>\n",
       "      <td>6.0</td>\n",
       "      <td>Homem</td>\n",
       "    </tr>\n",
       "    <tr>\n",
       "      <th>...</th>\n",
       "      <td>...</td>\n",
       "      <td>...</td>\n",
       "      <td>...</td>\n",
       "      <td>...</td>\n",
       "      <td>...</td>\n",
       "      <td>...</td>\n",
       "      <td>...</td>\n",
       "    </tr>\n",
       "    <tr>\n",
       "      <th>109</th>\n",
       "      <td>110</td>\n",
       "      <td>Serviço</td>\n",
       "      <td>Trainee</td>\n",
       "      <td>8</td>\n",
       "      <td>Sim</td>\n",
       "      <td>5.0</td>\n",
       "      <td>Outro</td>\n",
       "    </tr>\n",
       "    <tr>\n",
       "      <th>110</th>\n",
       "      <td>111</td>\n",
       "      <td>Serviço</td>\n",
       "      <td>Pleno</td>\n",
       "      <td>8</td>\n",
       "      <td>Sim</td>\n",
       "      <td>3.0</td>\n",
       "      <td>Homem</td>\n",
       "    </tr>\n",
       "    <tr>\n",
       "      <th>111</th>\n",
       "      <td>112</td>\n",
       "      <td>Serviço</td>\n",
       "      <td>Trainee</td>\n",
       "      <td>8</td>\n",
       "      <td>Sim</td>\n",
       "      <td>8.0</td>\n",
       "      <td>Homem</td>\n",
       "    </tr>\n",
       "    <tr>\n",
       "      <th>112</th>\n",
       "      <td>113</td>\n",
       "      <td>Serviço</td>\n",
       "      <td>Trainee</td>\n",
       "      <td>7</td>\n",
       "      <td>Sim</td>\n",
       "      <td>2.0</td>\n",
       "      <td>Homem</td>\n",
       "    </tr>\n",
       "    <tr>\n",
       "      <th>113</th>\n",
       "      <td>114</td>\n",
       "      <td>Serviço</td>\n",
       "      <td>Trainee</td>\n",
       "      <td>4</td>\n",
       "      <td>Sim</td>\n",
       "      <td>4.0</td>\n",
       "      <td>Mulher</td>\n",
       "    </tr>\n",
       "  </tbody>\n",
       "</table>\n",
       "<p>114 rows × 7 columns</p>\n",
       "</div>"
      ],
      "text/plain": [
       "      ID onde_esta_atuando    nivel tempo_demandas confortavel  fadiga_mental  \\\n",
       "0      1           Serviço   Junior             10         Sim            7.0   \n",
       "1      2           Serviço   Junior             8          Sim            4.0   \n",
       "2      3           Serviço   Junior             10         Sim            8.0   \n",
       "3      4           Serviço   Junior             8          Não           10.0   \n",
       "4      5           Serviço   Junior             2          Sim            6.0   \n",
       "..   ...               ...      ...            ...         ...            ...   \n",
       "109  110           Serviço  Trainee             8          Sim            5.0   \n",
       "110  111           Serviço    Pleno             8          Sim            3.0   \n",
       "111  112           Serviço  Trainee             8          Sim            8.0   \n",
       "112  113           Serviço  Trainee             7          Sim            2.0   \n",
       "113  114           Serviço  Trainee             4          Sim            4.0   \n",
       "\n",
       "     Gender  \n",
       "0     Homem  \n",
       "1     Homem  \n",
       "2    Mulher  \n",
       "3     Homem  \n",
       "4     Homem  \n",
       "..      ...  \n",
       "109   Outro  \n",
       "110   Homem  \n",
       "111   Homem  \n",
       "112   Homem  \n",
       "113  Mulher  \n",
       "\n",
       "[114 rows x 7 columns]"
      ]
     },
     "execution_count": 54,
     "metadata": {},
     "output_type": "execute_result"
    }
   ],
   "source": [
    "df_form_ti['onde_esta_atuando'] = df_form_ti['onde_esta_atuando'].replace({'Projeto Integrado': 'Serviço'\n",
    "                                                                           ,'Produto Interno':'Produto'\n",
    "                                                                           ,'Squad':'Serviço'\n",
    "                                                                           ,'Laboratórios':'Serviço'\n",
    "                                                                           ,'Projeto Interno':'Serviço'\n",
    "                                                                           ,'Projeto de Cliente': 'Serviço'\n",
    "                                                                           ,'Produto do Cliente':'Produto'})\n",
    "df_form_ti"
   ]
  },
  {
   "cell_type": "code",
   "execution_count": 55,
   "metadata": {},
   "outputs": [],
   "source": [
    "df_form_ti.columns=['ID','Company Type', 'Designation','Resource Allocation','WFH Setup Available',\n",
    "                    'Mental Fatigue Score', 'Gender']\n"
   ]
  },
  {
   "cell_type": "code",
   "execution_count": 56,
   "metadata": {},
   "outputs": [
    {
     "data": {
      "text/html": [
       "<div>\n",
       "<style scoped>\n",
       "    .dataframe tbody tr th:only-of-type {\n",
       "        vertical-align: middle;\n",
       "    }\n",
       "\n",
       "    .dataframe tbody tr th {\n",
       "        vertical-align: top;\n",
       "    }\n",
       "\n",
       "    .dataframe thead th {\n",
       "        text-align: right;\n",
       "    }\n",
       "</style>\n",
       "<table border=\"1\" class=\"dataframe\">\n",
       "  <thead>\n",
       "    <tr style=\"text-align: right;\">\n",
       "      <th></th>\n",
       "      <th>ID</th>\n",
       "      <th>Company Type</th>\n",
       "      <th>Designation</th>\n",
       "      <th>Resource Allocation</th>\n",
       "      <th>WFH Setup Available</th>\n",
       "      <th>Mental Fatigue Score</th>\n",
       "      <th>Gender</th>\n",
       "    </tr>\n",
       "  </thead>\n",
       "  <tbody>\n",
       "    <tr>\n",
       "      <th>0</th>\n",
       "      <td>1</td>\n",
       "      <td>Serviço</td>\n",
       "      <td>Junior</td>\n",
       "      <td>10</td>\n",
       "      <td>Sim</td>\n",
       "      <td>7.0</td>\n",
       "      <td>Homem</td>\n",
       "    </tr>\n",
       "    <tr>\n",
       "      <th>1</th>\n",
       "      <td>2</td>\n",
       "      <td>Serviço</td>\n",
       "      <td>Junior</td>\n",
       "      <td>8</td>\n",
       "      <td>Sim</td>\n",
       "      <td>4.0</td>\n",
       "      <td>Homem</td>\n",
       "    </tr>\n",
       "    <tr>\n",
       "      <th>2</th>\n",
       "      <td>3</td>\n",
       "      <td>Serviço</td>\n",
       "      <td>Junior</td>\n",
       "      <td>10</td>\n",
       "      <td>Sim</td>\n",
       "      <td>8.0</td>\n",
       "      <td>Mulher</td>\n",
       "    </tr>\n",
       "    <tr>\n",
       "      <th>3</th>\n",
       "      <td>4</td>\n",
       "      <td>Serviço</td>\n",
       "      <td>Junior</td>\n",
       "      <td>8</td>\n",
       "      <td>Não</td>\n",
       "      <td>10.0</td>\n",
       "      <td>Homem</td>\n",
       "    </tr>\n",
       "    <tr>\n",
       "      <th>4</th>\n",
       "      <td>5</td>\n",
       "      <td>Serviço</td>\n",
       "      <td>Junior</td>\n",
       "      <td>2</td>\n",
       "      <td>Sim</td>\n",
       "      <td>6.0</td>\n",
       "      <td>Homem</td>\n",
       "    </tr>\n",
       "  </tbody>\n",
       "</table>\n",
       "</div>"
      ],
      "text/plain": [
       "  ID Company Type Designation Resource Allocation WFH Setup Available  \\\n",
       "0  1      Serviço      Junior                  10                 Sim   \n",
       "1  2      Serviço      Junior                  8                  Sim   \n",
       "2  3      Serviço      Junior                  10                 Sim   \n",
       "3  4      Serviço      Junior                  8                  Não   \n",
       "4  5      Serviço      Junior                  2                  Sim   \n",
       "\n",
       "   Mental Fatigue Score  Gender  \n",
       "0                   7.0   Homem  \n",
       "1                   4.0   Homem  \n",
       "2                   8.0  Mulher  \n",
       "3                  10.0   Homem  \n",
       "4                   6.0   Homem  "
      ]
     },
     "execution_count": 56,
     "metadata": {},
     "output_type": "execute_result"
    }
   ],
   "source": [
    "df_form_ti.head(5)"
   ]
  },
  {
   "cell_type": "markdown",
   "metadata": {},
   "source": [
    "## Encoding"
   ]
  },
  {
   "cell_type": "code",
   "execution_count": 57,
   "metadata": {},
   "outputs": [],
   "source": [
    "df_form_ti['Gender'] = df_form_ti['Gender'].map({'Mulher': 1, 'Homem': 0, 'Outro': 2})\n",
    "df_form_ti['Company Type'] = df_form_ti['Company Type'].map({'Serviço': 1, 'Produto': 0})\n",
    "df_form_ti['WFH Setup Available'] = df_form_ti['WFH Setup Available'].map({'Sim': 1, 'Não': 0})\n",
    "df_form_ti['Designation'] = df_form_ti['Designation'].map({'Trainee': 0, 'Junior': 1, 'Pleno': 2,'Senior': 3 })"
   ]
  },
  {
   "cell_type": "code",
   "execution_count": 58,
   "metadata": {
    "scrolled": true
   },
   "outputs": [
    {
     "name": "stdout",
     "output_type": "stream",
     "text": [
      "<class 'pandas.core.frame.DataFrame'>\n",
      "Int64Index: 114 entries, 0 to 113\n",
      "Data columns (total 7 columns):\n",
      " #   Column                Non-Null Count  Dtype  \n",
      "---  ------                --------------  -----  \n",
      " 0   ID                    114 non-null    object \n",
      " 1   Company Type          114 non-null    int64  \n",
      " 2   Designation           114 non-null    int64  \n",
      " 3   Resource Allocation   114 non-null    object \n",
      " 4   WFH Setup Available   114 non-null    int64  \n",
      " 5   Mental Fatigue Score  114 non-null    float64\n",
      " 6   Gender                114 non-null    int64  \n",
      "dtypes: float64(1), int64(4), object(2)\n",
      "memory usage: 12.1+ KB\n"
     ]
    }
   ],
   "source": [
    "df_form_ti.info()"
   ]
  },
  {
   "cell_type": "code",
   "execution_count": 59,
   "metadata": {},
   "outputs": [],
   "source": [
    "df_form_ti['Resource Allocation'] = df_form_ti['Resource Allocation'].astype(float)\n",
    "df_form_ti['ID'] = df_form_ti['ID'].astype(int)"
   ]
  },
  {
   "cell_type": "code",
   "execution_count": 60,
   "metadata": {},
   "outputs": [
    {
     "name": "stdout",
     "output_type": "stream",
     "text": [
      "<class 'pandas.core.frame.DataFrame'>\n",
      "Int64Index: 114 entries, 0 to 113\n",
      "Data columns (total 7 columns):\n",
      " #   Column                Non-Null Count  Dtype  \n",
      "---  ------                --------------  -----  \n",
      " 0   ID                    114 non-null    int32  \n",
      " 1   Company Type          114 non-null    int64  \n",
      " 2   Designation           114 non-null    int64  \n",
      " 3   Resource Allocation   114 non-null    float64\n",
      " 4   WFH Setup Available   114 non-null    int64  \n",
      " 5   Mental Fatigue Score  114 non-null    float64\n",
      " 6   Gender                114 non-null    int64  \n",
      "dtypes: float64(2), int32(1), int64(4)\n",
      "memory usage: 11.7 KB\n"
     ]
    }
   ],
   "source": [
    "df_form_ti.info()"
   ]
  },
  {
   "cell_type": "code",
   "execution_count": 61,
   "metadata": {},
   "outputs": [],
   "source": [
    "df_form_ti = df_form_ti[['ID','Gender', 'Company Type', 'WFH Setup Available', \n",
    "                         'Designation', 'Resource Allocation', 'Mental Fatigue Score']]"
   ]
  },
  {
   "cell_type": "code",
   "execution_count": 62,
   "metadata": {},
   "outputs": [
    {
     "data": {
      "text/html": [
       "<div>\n",
       "<style scoped>\n",
       "    .dataframe tbody tr th:only-of-type {\n",
       "        vertical-align: middle;\n",
       "    }\n",
       "\n",
       "    .dataframe tbody tr th {\n",
       "        vertical-align: top;\n",
       "    }\n",
       "\n",
       "    .dataframe thead th {\n",
       "        text-align: right;\n",
       "    }\n",
       "</style>\n",
       "<table border=\"1\" class=\"dataframe\">\n",
       "  <thead>\n",
       "    <tr style=\"text-align: right;\">\n",
       "      <th></th>\n",
       "      <th>ID</th>\n",
       "      <th>Gender</th>\n",
       "      <th>Company Type</th>\n",
       "      <th>WFH Setup Available</th>\n",
       "      <th>Designation</th>\n",
       "      <th>Resource Allocation</th>\n",
       "      <th>Mental Fatigue Score</th>\n",
       "    </tr>\n",
       "  </thead>\n",
       "  <tbody>\n",
       "    <tr>\n",
       "      <th>0</th>\n",
       "      <td>1</td>\n",
       "      <td>0</td>\n",
       "      <td>1</td>\n",
       "      <td>1</td>\n",
       "      <td>1</td>\n",
       "      <td>10.0</td>\n",
       "      <td>7.0</td>\n",
       "    </tr>\n",
       "    <tr>\n",
       "      <th>1</th>\n",
       "      <td>2</td>\n",
       "      <td>0</td>\n",
       "      <td>1</td>\n",
       "      <td>1</td>\n",
       "      <td>1</td>\n",
       "      <td>8.0</td>\n",
       "      <td>4.0</td>\n",
       "    </tr>\n",
       "    <tr>\n",
       "      <th>2</th>\n",
       "      <td>3</td>\n",
       "      <td>1</td>\n",
       "      <td>1</td>\n",
       "      <td>1</td>\n",
       "      <td>1</td>\n",
       "      <td>10.0</td>\n",
       "      <td>8.0</td>\n",
       "    </tr>\n",
       "    <tr>\n",
       "      <th>3</th>\n",
       "      <td>4</td>\n",
       "      <td>0</td>\n",
       "      <td>1</td>\n",
       "      <td>0</td>\n",
       "      <td>1</td>\n",
       "      <td>8.0</td>\n",
       "      <td>10.0</td>\n",
       "    </tr>\n",
       "    <tr>\n",
       "      <th>4</th>\n",
       "      <td>5</td>\n",
       "      <td>0</td>\n",
       "      <td>1</td>\n",
       "      <td>1</td>\n",
       "      <td>1</td>\n",
       "      <td>2.0</td>\n",
       "      <td>6.0</td>\n",
       "    </tr>\n",
       "  </tbody>\n",
       "</table>\n",
       "</div>"
      ],
      "text/plain": [
       "   ID  Gender  Company Type  WFH Setup Available  Designation  \\\n",
       "0   1       0             1                    1            1   \n",
       "1   2       0             1                    1            1   \n",
       "2   3       1             1                    1            1   \n",
       "3   4       0             1                    0            1   \n",
       "4   5       0             1                    1            1   \n",
       "\n",
       "   Resource Allocation  Mental Fatigue Score  \n",
       "0                 10.0                   7.0  \n",
       "1                  8.0                   4.0  \n",
       "2                 10.0                   8.0  \n",
       "3                  8.0                  10.0  \n",
       "4                  2.0                   6.0  "
      ]
     },
     "execution_count": 62,
     "metadata": {},
     "output_type": "execute_result"
    }
   ],
   "source": [
    "# Dataset limpo e pronto para predição\n",
    "df_form_ti.head(5)"
   ]
  },
  {
   "cell_type": "markdown",
   "metadata": {},
   "source": [
    "## Predição Datasets TI"
   ]
  },
  {
   "cell_type": "code",
   "execution_count": 63,
   "metadata": {},
   "outputs": [],
   "source": [
    "ti_pred = best_model_xgb.predict(df_form_ti.drop('ID', axis=1))"
   ]
  },
  {
   "cell_type": "code",
   "execution_count": 64,
   "metadata": {},
   "outputs": [],
   "source": [
    "result_ti = pd.DataFrame(ti_pred, index = df_form_ti['ID'], columns = ['Burn Rate'])"
   ]
  },
  {
   "cell_type": "code",
   "execution_count": 65,
   "metadata": {},
   "outputs": [
    {
     "data": {
      "text/plain": [
       "Burn Rate    26\n",
       "dtype: int64"
      ]
     },
     "execution_count": 65,
     "metadata": {},
     "output_type": "execute_result"
    }
   ],
   "source": [
    "# Analisando criticidade do Burn Rate acima de 0,7\n",
    "critc_ti = result_ti['Burn Rate'] >= 0.7\n",
    "result_ti[critc_ti].count()"
   ]
  },
  {
   "cell_type": "code",
   "execution_count": 66,
   "metadata": {},
   "outputs": [
    {
     "data": {
      "text/html": [
       "<div>\n",
       "<style scoped>\n",
       "    .dataframe tbody tr th:only-of-type {\n",
       "        vertical-align: middle;\n",
       "    }\n",
       "\n",
       "    .dataframe tbody tr th {\n",
       "        vertical-align: top;\n",
       "    }\n",
       "\n",
       "    .dataframe thead th {\n",
       "        text-align: right;\n",
       "    }\n",
       "</style>\n",
       "<table border=\"1\" class=\"dataframe\">\n",
       "  <thead>\n",
       "    <tr style=\"text-align: right;\">\n",
       "      <th></th>\n",
       "      <th>Burn Rate</th>\n",
       "    </tr>\n",
       "    <tr>\n",
       "      <th>ID</th>\n",
       "      <th></th>\n",
       "    </tr>\n",
       "  </thead>\n",
       "  <tbody>\n",
       "    <tr>\n",
       "      <th>1</th>\n",
       "      <td>0.790240</td>\n",
       "    </tr>\n",
       "    <tr>\n",
       "      <th>3</th>\n",
       "      <td>0.848616</td>\n",
       "    </tr>\n",
       "    <tr>\n",
       "      <th>4</th>\n",
       "      <td>0.921894</td>\n",
       "    </tr>\n",
       "    <tr>\n",
       "      <th>7</th>\n",
       "      <td>0.715314</td>\n",
       "    </tr>\n",
       "    <tr>\n",
       "      <th>8</th>\n",
       "      <td>0.753580</td>\n",
       "    </tr>\n",
       "    <tr>\n",
       "      <th>20</th>\n",
       "      <td>0.722567</td>\n",
       "    </tr>\n",
       "    <tr>\n",
       "      <th>24</th>\n",
       "      <td>0.718611</td>\n",
       "    </tr>\n",
       "    <tr>\n",
       "      <th>28</th>\n",
       "      <td>0.756484</td>\n",
       "    </tr>\n",
       "    <tr>\n",
       "      <th>29</th>\n",
       "      <td>0.718611</td>\n",
       "    </tr>\n",
       "    <tr>\n",
       "      <th>46</th>\n",
       "      <td>0.715314</td>\n",
       "    </tr>\n",
       "    <tr>\n",
       "      <th>49</th>\n",
       "      <td>0.718611</td>\n",
       "    </tr>\n",
       "    <tr>\n",
       "      <th>55</th>\n",
       "      <td>0.827065</td>\n",
       "    </tr>\n",
       "    <tr>\n",
       "      <th>56</th>\n",
       "      <td>0.718611</td>\n",
       "    </tr>\n",
       "    <tr>\n",
       "      <th>60</th>\n",
       "      <td>0.840850</td>\n",
       "    </tr>\n",
       "    <tr>\n",
       "      <th>64</th>\n",
       "      <td>0.760539</td>\n",
       "    </tr>\n",
       "    <tr>\n",
       "      <th>66</th>\n",
       "      <td>0.784857</td>\n",
       "    </tr>\n",
       "    <tr>\n",
       "      <th>67</th>\n",
       "      <td>0.718611</td>\n",
       "    </tr>\n",
       "    <tr>\n",
       "      <th>69</th>\n",
       "      <td>0.718611</td>\n",
       "    </tr>\n",
       "    <tr>\n",
       "      <th>71</th>\n",
       "      <td>0.755981</td>\n",
       "    </tr>\n",
       "    <tr>\n",
       "      <th>73</th>\n",
       "      <td>0.715314</td>\n",
       "    </tr>\n",
       "    <tr>\n",
       "      <th>74</th>\n",
       "      <td>0.788835</td>\n",
       "    </tr>\n",
       "    <tr>\n",
       "      <th>81</th>\n",
       "      <td>0.728272</td>\n",
       "    </tr>\n",
       "    <tr>\n",
       "      <th>90</th>\n",
       "      <td>0.756484</td>\n",
       "    </tr>\n",
       "    <tr>\n",
       "      <th>91</th>\n",
       "      <td>0.755981</td>\n",
       "    </tr>\n",
       "    <tr>\n",
       "      <th>107</th>\n",
       "      <td>0.770765</td>\n",
       "    </tr>\n",
       "    <tr>\n",
       "      <th>112</th>\n",
       "      <td>0.760539</td>\n",
       "    </tr>\n",
       "  </tbody>\n",
       "</table>\n",
       "</div>"
      ],
      "text/plain": [
       "     Burn Rate\n",
       "ID            \n",
       "1     0.790240\n",
       "3     0.848616\n",
       "4     0.921894\n",
       "7     0.715314\n",
       "8     0.753580\n",
       "20    0.722567\n",
       "24    0.718611\n",
       "28    0.756484\n",
       "29    0.718611\n",
       "46    0.715314\n",
       "49    0.718611\n",
       "55    0.827065\n",
       "56    0.718611\n",
       "60    0.840850\n",
       "64    0.760539\n",
       "66    0.784857\n",
       "67    0.718611\n",
       "69    0.718611\n",
       "71    0.755981\n",
       "73    0.715314\n",
       "74    0.788835\n",
       "81    0.728272\n",
       "90    0.756484\n",
       "91    0.755981\n",
       "107   0.770765\n",
       "112   0.760539"
      ]
     },
     "execution_count": 66,
     "metadata": {},
     "output_type": "execute_result"
    }
   ],
   "source": [
    "result_ti[critc_ti]"
   ]
  },
  {
   "cell_type": "code",
   "execution_count": 67,
   "metadata": {},
   "outputs": [
    {
     "data": {
      "text/plain": [
       "Burn Rate    4\n",
       "dtype: int64"
      ]
     },
     "execution_count": 67,
     "metadata": {},
     "output_type": "execute_result"
    }
   ],
   "source": [
    "# Analisando criticidade do Burn Rate dentro dos 0,7 os que estão acima de 0,8\n",
    "critc_ti = result_ti['Burn Rate'] >= 0.8\n",
    "result_ti[critc_ti].count()\n"
   ]
  },
  {
   "cell_type": "code",
   "execution_count": 68,
   "metadata": {},
   "outputs": [
    {
     "data": {
      "text/html": [
       "<div>\n",
       "<style scoped>\n",
       "    .dataframe tbody tr th:only-of-type {\n",
       "        vertical-align: middle;\n",
       "    }\n",
       "\n",
       "    .dataframe tbody tr th {\n",
       "        vertical-align: top;\n",
       "    }\n",
       "\n",
       "    .dataframe thead th {\n",
       "        text-align: right;\n",
       "    }\n",
       "</style>\n",
       "<table border=\"1\" class=\"dataframe\">\n",
       "  <thead>\n",
       "    <tr style=\"text-align: right;\">\n",
       "      <th></th>\n",
       "      <th>Burn Rate</th>\n",
       "    </tr>\n",
       "    <tr>\n",
       "      <th>ID</th>\n",
       "      <th></th>\n",
       "    </tr>\n",
       "  </thead>\n",
       "  <tbody>\n",
       "    <tr>\n",
       "      <th>3</th>\n",
       "      <td>0.848616</td>\n",
       "    </tr>\n",
       "    <tr>\n",
       "      <th>4</th>\n",
       "      <td>0.921894</td>\n",
       "    </tr>\n",
       "    <tr>\n",
       "      <th>55</th>\n",
       "      <td>0.827065</td>\n",
       "    </tr>\n",
       "    <tr>\n",
       "      <th>60</th>\n",
       "      <td>0.840850</td>\n",
       "    </tr>\n",
       "  </tbody>\n",
       "</table>\n",
       "</div>"
      ],
      "text/plain": [
       "    Burn Rate\n",
       "ID           \n",
       "3    0.848616\n",
       "4    0.921894\n",
       "55   0.827065\n",
       "60   0.840850"
      ]
     },
     "execution_count": 68,
     "metadata": {},
     "output_type": "execute_result"
    }
   ],
   "source": [
    "result_ti[critc_ti]"
   ]
  },
  {
   "cell_type": "markdown",
   "metadata": {},
   "source": [
    " "
   ]
  },
  {
   "cell_type": "markdown",
   "metadata": {},
   "source": [
    "_______________________________________________\n",
    "## Dataset Oil&Gás"
   ]
  },
  {
   "cell_type": "code",
   "execution_count": 69,
   "metadata": {},
   "outputs": [],
   "source": [
    "df_form_oil = pd.read_csv(\"https://raw.githubusercontent.com/Davidomfer/TCC_PUCMinas/main/form_oil.csv\",sep = \",\")"
   ]
  },
  {
   "cell_type": "code",
   "execution_count": 70,
   "metadata": {},
   "outputs": [
    {
     "name": "stdout",
     "output_type": "stream",
     "text": [
      "(60, 10)\n"
     ]
    },
    {
     "data": {
      "text/html": [
       "<div>\n",
       "<style scoped>\n",
       "    .dataframe tbody tr th:only-of-type {\n",
       "        vertical-align: middle;\n",
       "    }\n",
       "\n",
       "    .dataframe tbody tr th {\n",
       "        vertical-align: top;\n",
       "    }\n",
       "\n",
       "    .dataframe thead th {\n",
       "        text-align: right;\n",
       "    }\n",
       "</style>\n",
       "<table border=\"1\" class=\"dataframe\">\n",
       "  <thead>\n",
       "    <tr style=\"text-align: right;\">\n",
       "      <th></th>\n",
       "      <th>Carimbo de data/hora</th>\n",
       "      <th>Faixa etária / idade:</th>\n",
       "      <th>Estado?</th>\n",
       "      <th>Sexo:</th>\n",
       "      <th>Tipo de Empresa :</th>\n",
       "      <th>Nível na Empresa?</th>\n",
       "      <th>Data de entrada na empresa?</th>\n",
       "      <th>Ambiente home-office adequado para o trabalho?</th>\n",
       "      <th>Quantidade de horas para executar as demandas diárias?</th>\n",
       "      <th>Índice de fadiga mental ( como você avalia seu desgaste mental enquanto trabalha)</th>\n",
       "      <th>ID</th>\n",
       "    </tr>\n",
       "  </thead>\n",
       "  <tbody>\n",
       "    <tr>\n",
       "      <th>0</th>\n",
       "      <td>2022/09/15 12:18:30 PM GMT-3</td>\n",
       "      <td>31 a 40</td>\n",
       "      <td>Rio de Janeiro</td>\n",
       "      <td>Masculino</td>\n",
       "      <td>Serviço</td>\n",
       "      <td>Junior</td>\n",
       "      <td>2022-05-13</td>\n",
       "      <td>Não</td>\n",
       "      <td>6</td>\n",
       "      <td>5</td>\n",
       "      <td>1</td>\n",
       "    </tr>\n",
       "    <tr>\n",
       "      <th>1</th>\n",
       "      <td>2022/09/15 12:22:47 PM GMT-3</td>\n",
       "      <td>31 a 40</td>\n",
       "      <td>Rio de Janeiro</td>\n",
       "      <td>Masculino</td>\n",
       "      <td>Serviço</td>\n",
       "      <td>Pleno</td>\n",
       "      <td>2021-03-15</td>\n",
       "      <td>Não</td>\n",
       "      <td>7</td>\n",
       "      <td>8</td>\n",
       "      <td>2</td>\n",
       "    </tr>\n",
       "    <tr>\n",
       "      <th>2</th>\n",
       "      <td>2022/09/15 7:32:12 PM GMT-3</td>\n",
       "      <td>25 a 30</td>\n",
       "      <td>Espírito Santo</td>\n",
       "      <td>Feminino</td>\n",
       "      <td>Serviço</td>\n",
       "      <td>Pleno</td>\n",
       "      <td>2020-10-05</td>\n",
       "      <td>Não</td>\n",
       "      <td>9</td>\n",
       "      <td>9</td>\n",
       "      <td>3</td>\n",
       "    </tr>\n",
       "    <tr>\n",
       "      <th>3</th>\n",
       "      <td>2022/09/16 4:00:52 PM GMT-3</td>\n",
       "      <td>31 a 40</td>\n",
       "      <td>Rio de Janeiro</td>\n",
       "      <td>Masculino</td>\n",
       "      <td>Serviço</td>\n",
       "      <td>Sênior</td>\n",
       "      <td>2015-10-22</td>\n",
       "      <td>Sim</td>\n",
       "      <td>8</td>\n",
       "      <td>7</td>\n",
       "      <td>4</td>\n",
       "    </tr>\n",
       "    <tr>\n",
       "      <th>4</th>\n",
       "      <td>2022/09/16 4:07:06 PM GMT-3</td>\n",
       "      <td>31 a 40</td>\n",
       "      <td>Rio de Janeiro</td>\n",
       "      <td>Masculino</td>\n",
       "      <td>Serviço</td>\n",
       "      <td>Sênior</td>\n",
       "      <td>2013-09-01</td>\n",
       "      <td>Não</td>\n",
       "      <td>10</td>\n",
       "      <td>8</td>\n",
       "      <td>5</td>\n",
       "    </tr>\n",
       "  </tbody>\n",
       "</table>\n",
       "</div>"
      ],
      "text/plain": [
       "           Carimbo de data/hora Faixa etária / idade:         Estado?  \\\n",
       "0  2022/09/15 12:18:30 PM GMT-3               31 a 40  Rio de Janeiro   \n",
       "1  2022/09/15 12:22:47 PM GMT-3               31 a 40  Rio de Janeiro   \n",
       "2   2022/09/15 7:32:12 PM GMT-3               25 a 30  Espírito Santo   \n",
       "3   2022/09/16 4:00:52 PM GMT-3               31 a 40  Rio de Janeiro   \n",
       "4   2022/09/16 4:07:06 PM GMT-3               31 a 40  Rio de Janeiro   \n",
       "\n",
       "       Sexo: Tipo de Empresa : Nível na Empresa? Data de entrada na empresa?  \\\n",
       "0  Masculino           Serviço            Junior                  2022-05-13   \n",
       "1  Masculino           Serviço             Pleno                  2021-03-15   \n",
       "2   Feminino           Serviço             Pleno                  2020-10-05   \n",
       "3  Masculino           Serviço            Sênior                  2015-10-22   \n",
       "4  Masculino           Serviço            Sênior                  2013-09-01   \n",
       "\n",
       "  Ambiente home-office adequado para o trabalho?   \\\n",
       "0                                             Não   \n",
       "1                                             Não   \n",
       "2                                             Não   \n",
       "3                                             Sim   \n",
       "4                                             Não   \n",
       "\n",
       "   Quantidade de horas para executar as demandas diárias?  \\\n",
       "0                                                  6        \n",
       "1                                                  7        \n",
       "2                                                  9        \n",
       "3                                                  8        \n",
       "4                                                 10        \n",
       "\n",
       "   Índice de fadiga mental ( como você avalia seu desgaste mental enquanto trabalha)  \\\n",
       "0                                                  5                                   \n",
       "1                                                  8                                   \n",
       "2                                                  9                                   \n",
       "3                                                  7                                   \n",
       "4                                                  8                                   \n",
       "\n",
       "   ID  \n",
       "0   1  \n",
       "1   2  \n",
       "2   3  \n",
       "3   4  \n",
       "4   5  "
      ]
     },
     "execution_count": 70,
     "metadata": {},
     "output_type": "execute_result"
    }
   ],
   "source": [
    "print(df_form_oil.shape)\n",
    "df_form_oil['ID'] = df_form_oil.index + 1\n",
    "df_form_oil.head(5)"
   ]
  },
  {
   "cell_type": "code",
   "execution_count": 71,
   "metadata": {},
   "outputs": [
    {
     "data": {
      "text/plain": [
       "Carimbo de data/hora                                                                 0\n",
       "Faixa etária / idade:                                                                0\n",
       "Estado?                                                                              0\n",
       "Sexo:                                                                                0\n",
       "Tipo de Empresa :                                                                    0\n",
       "Nível na Empresa?                                                                    0\n",
       "Data de entrada na empresa?                                                          0\n",
       "Ambiente home-office adequado para o trabalho?                                       0\n",
       "Quantidade de horas para executar as demandas diárias?                               0\n",
       "Índice de fadiga mental ( como você avalia seu desgaste mental enquanto trabalha)    0\n",
       "ID                                                                                   0\n",
       "dtype: int64"
      ]
     },
     "execution_count": 71,
     "metadata": {},
     "output_type": "execute_result"
    }
   ],
   "source": [
    "df_form_oil.isna().sum()"
   ]
  },
  {
   "cell_type": "code",
   "execution_count": 72,
   "metadata": {},
   "outputs": [
    {
     "data": {
      "text/plain": [
       "Sim    40\n",
       "Não    20\n",
       "Name: Ambiente home-office adequado para o trabalho? , dtype: int64"
      ]
     },
     "execution_count": 72,
     "metadata": {},
     "output_type": "execute_result"
    }
   ],
   "source": [
    "df_form_oil['Ambiente home-office adequado para o trabalho? '].value_counts()"
   ]
  },
  {
   "cell_type": "code",
   "execution_count": 73,
   "metadata": {},
   "outputs": [
    {
     "data": {
      "image/png": "[encoded data removed]",
      "text/plain": [
       "<Figure size 720x504 with 1 Axes>"
      ]
     },
     "metadata": {},
     "output_type": "display_data"
    }
   ],
   "source": [
    "plt.figure(figsize=(10,7))\n",
    "sns.countplot(data=df_form_oil, x='Faixa etária / idade:',order = ['18 a 24','25 a 30','31 a 40', '41 a 50', '51 a 60']);"
   ]
  },
  {
   "cell_type": "code",
   "execution_count": 74,
   "metadata": {},
   "outputs": [
    {
     "data": {
      "text/plain": [
       "<AxesSubplot:xlabel='Estado?', ylabel='count'>"
      ]
     },
     "execution_count": 74,
     "metadata": {},
     "output_type": "execute_result"
    },
    {
     "data": {
      "image/png": "[encoded data removed]",
      "text/plain": [
       "<Figure size 1800x504 with 1 Axes>"
      ]
     },
     "metadata": {},
     "output_type": "display_data"
    }
   ],
   "source": [
    "plt.figure(figsize=(25,7))\n",
    "sns.countplot(data=df_form_oil, x='Estado?')"
   ]
  },
  {
   "cell_type": "code",
   "execution_count": 75,
   "metadata": {},
   "outputs": [
    {
     "data": {
      "text/plain": [
       "<AxesSubplot:xlabel='Ambiente home-office adequado para o trabalho? ', ylabel='Índice de fadiga mental ( como você avalia seu desgaste mental enquanto trabalha)'>"
      ]
     },
     "execution_count": 75,
     "metadata": {},
     "output_type": "execute_result"
    },
    {
     "data": {
      "image/png": "[encoded data removed]",
      "text/plain": [
       "<Figure size 504x504 with 1 Axes>"
      ]
     },
     "metadata": {},
     "output_type": "display_data"
    }
   ],
   "source": [
    "plt.figure(figsize=(7,7))\n",
    "sns.boxplot(data=df_form_oil, x=\"Ambiente home-office adequado para o trabalho? \",\n",
    "            y=\"Índice de fadiga mental ( como você avalia seu desgaste mental enquanto trabalha)\")"
   ]
  },
  {
   "cell_type": "code",
   "execution_count": 76,
   "metadata": {},
   "outputs": [
    {
     "data": {
      "text/html": [
       "<div>\n",
       "<style scoped>\n",
       "    .dataframe tbody tr th:only-of-type {\n",
       "        vertical-align: middle;\n",
       "    }\n",
       "\n",
       "    .dataframe tbody tr th {\n",
       "        vertical-align: top;\n",
       "    }\n",
       "\n",
       "    .dataframe thead th {\n",
       "        text-align: right;\n",
       "    }\n",
       "</style>\n",
       "<table border=\"1\" class=\"dataframe\">\n",
       "  <thead>\n",
       "    <tr style=\"text-align: right;\">\n",
       "      <th></th>\n",
       "      <th>Sexo:</th>\n",
       "      <th>Tipo de Empresa :</th>\n",
       "      <th>Nível na Empresa?</th>\n",
       "      <th>Ambiente home-office adequado para o trabalho?</th>\n",
       "      <th>Quantidade de horas para executar as demandas diárias?</th>\n",
       "      <th>Índice de fadiga mental ( como você avalia seu desgaste mental enquanto trabalha)</th>\n",
       "      <th>ID</th>\n",
       "    </tr>\n",
       "  </thead>\n",
       "  <tbody>\n",
       "    <tr>\n",
       "      <th>0</th>\n",
       "      <td>Masculino</td>\n",
       "      <td>Serviço</td>\n",
       "      <td>Junior</td>\n",
       "      <td>Não</td>\n",
       "      <td>6</td>\n",
       "      <td>5</td>\n",
       "      <td>1</td>\n",
       "    </tr>\n",
       "    <tr>\n",
       "      <th>1</th>\n",
       "      <td>Masculino</td>\n",
       "      <td>Serviço</td>\n",
       "      <td>Pleno</td>\n",
       "      <td>Não</td>\n",
       "      <td>7</td>\n",
       "      <td>8</td>\n",
       "      <td>2</td>\n",
       "    </tr>\n",
       "    <tr>\n",
       "      <th>2</th>\n",
       "      <td>Feminino</td>\n",
       "      <td>Serviço</td>\n",
       "      <td>Pleno</td>\n",
       "      <td>Não</td>\n",
       "      <td>9</td>\n",
       "      <td>9</td>\n",
       "      <td>3</td>\n",
       "    </tr>\n",
       "    <tr>\n",
       "      <th>3</th>\n",
       "      <td>Masculino</td>\n",
       "      <td>Serviço</td>\n",
       "      <td>Sênior</td>\n",
       "      <td>Sim</td>\n",
       "      <td>8</td>\n",
       "      <td>7</td>\n",
       "      <td>4</td>\n",
       "    </tr>\n",
       "    <tr>\n",
       "      <th>4</th>\n",
       "      <td>Masculino</td>\n",
       "      <td>Serviço</td>\n",
       "      <td>Sênior</td>\n",
       "      <td>Não</td>\n",
       "      <td>10</td>\n",
       "      <td>8</td>\n",
       "      <td>5</td>\n",
       "    </tr>\n",
       "  </tbody>\n",
       "</table>\n",
       "</div>"
      ],
      "text/plain": [
       "       Sexo: Tipo de Empresa : Nível na Empresa?  \\\n",
       "0  Masculino           Serviço            Junior   \n",
       "1  Masculino           Serviço             Pleno   \n",
       "2   Feminino           Serviço             Pleno   \n",
       "3  Masculino           Serviço            Sênior   \n",
       "4  Masculino           Serviço            Sênior   \n",
       "\n",
       "  Ambiente home-office adequado para o trabalho?   \\\n",
       "0                                             Não   \n",
       "1                                             Não   \n",
       "2                                             Não   \n",
       "3                                             Sim   \n",
       "4                                             Não   \n",
       "\n",
       "   Quantidade de horas para executar as demandas diárias?  \\\n",
       "0                                                  6        \n",
       "1                                                  7        \n",
       "2                                                  9        \n",
       "3                                                  8        \n",
       "4                                                 10        \n",
       "\n",
       "   Índice de fadiga mental ( como você avalia seu desgaste mental enquanto trabalha)  \\\n",
       "0                                                  5                                   \n",
       "1                                                  8                                   \n",
       "2                                                  9                                   \n",
       "3                                                  7                                   \n",
       "4                                                  8                                   \n",
       "\n",
       "   ID  \n",
       "0   1  \n",
       "1   2  \n",
       "2   3  \n",
       "3   4  \n",
       "4   5  "
      ]
     },
     "execution_count": 76,
     "metadata": {},
     "output_type": "execute_result"
    }
   ],
   "source": [
    "df_form_oil.drop(['Carimbo de data/hora','Faixa etária / idade:','Estado?','Data de entrada na empresa?'],axis=1,inplace=True)\n",
    "df_form_oil.head(5)"
   ]
  },
  {
   "cell_type": "markdown",
   "metadata": {},
   "source": [
    "## Encoding"
   ]
  },
  {
   "cell_type": "code",
   "execution_count": 77,
   "metadata": {},
   "outputs": [],
   "source": [
    "df_form_oil['Sexo:'] = df_form_oil['Sexo:'].map({'Feminino': 1, 'Masculino': 0})\n",
    "df_form_oil['Tipo de Empresa :'] = df_form_oil['Tipo de Empresa :'].map({'Serviço': 1, 'Produto': 0})\n",
    "df_form_oil['Nível na Empresa?'] = df_form_oil['Nível na Empresa?'].map({'Junior': 1, 'Pleno': 2,'Sênior':2})\n",
    "df_form_oil['Ambiente home-office adequado para o trabalho? '] = df_form_oil[\n",
    "            'Ambiente home-office adequado para o trabalho? '].map({'Sim': 1, 'Não': 0})"
   ]
  },
  {
   "cell_type": "code",
   "execution_count": 78,
   "metadata": {},
   "outputs": [
    {
     "data": {
      "text/html": [
       "<div>\n",
       "<style scoped>\n",
       "    .dataframe tbody tr th:only-of-type {\n",
       "        vertical-align: middle;\n",
       "    }\n",
       "\n",
       "    .dataframe tbody tr th {\n",
       "        vertical-align: top;\n",
       "    }\n",
       "\n",
       "    .dataframe thead th {\n",
       "        text-align: right;\n",
       "    }\n",
       "</style>\n",
       "<table border=\"1\" class=\"dataframe\">\n",
       "  <thead>\n",
       "    <tr style=\"text-align: right;\">\n",
       "      <th></th>\n",
       "      <th>Sexo:</th>\n",
       "      <th>Tipo de Empresa :</th>\n",
       "      <th>Nível na Empresa?</th>\n",
       "      <th>Ambiente home-office adequado para o trabalho?</th>\n",
       "      <th>Quantidade de horas para executar as demandas diárias?</th>\n",
       "      <th>Índice de fadiga mental ( como você avalia seu desgaste mental enquanto trabalha)</th>\n",
       "      <th>ID</th>\n",
       "    </tr>\n",
       "  </thead>\n",
       "  <tbody>\n",
       "    <tr>\n",
       "      <th>0</th>\n",
       "      <td>0</td>\n",
       "      <td>1</td>\n",
       "      <td>1</td>\n",
       "      <td>0</td>\n",
       "      <td>6</td>\n",
       "      <td>5</td>\n",
       "      <td>1</td>\n",
       "    </tr>\n",
       "    <tr>\n",
       "      <th>1</th>\n",
       "      <td>0</td>\n",
       "      <td>1</td>\n",
       "      <td>2</td>\n",
       "      <td>0</td>\n",
       "      <td>7</td>\n",
       "      <td>8</td>\n",
       "      <td>2</td>\n",
       "    </tr>\n",
       "    <tr>\n",
       "      <th>2</th>\n",
       "      <td>1</td>\n",
       "      <td>1</td>\n",
       "      <td>2</td>\n",
       "      <td>0</td>\n",
       "      <td>9</td>\n",
       "      <td>9</td>\n",
       "      <td>3</td>\n",
       "    </tr>\n",
       "    <tr>\n",
       "      <th>3</th>\n",
       "      <td>0</td>\n",
       "      <td>1</td>\n",
       "      <td>2</td>\n",
       "      <td>1</td>\n",
       "      <td>8</td>\n",
       "      <td>7</td>\n",
       "      <td>4</td>\n",
       "    </tr>\n",
       "    <tr>\n",
       "      <th>4</th>\n",
       "      <td>0</td>\n",
       "      <td>1</td>\n",
       "      <td>2</td>\n",
       "      <td>0</td>\n",
       "      <td>10</td>\n",
       "      <td>8</td>\n",
       "      <td>5</td>\n",
       "    </tr>\n",
       "  </tbody>\n",
       "</table>\n",
       "</div>"
      ],
      "text/plain": [
       "   Sexo:  Tipo de Empresa :  Nível na Empresa?  \\\n",
       "0      0                  1                  1   \n",
       "1      0                  1                  2   \n",
       "2      1                  1                  2   \n",
       "3      0                  1                  2   \n",
       "4      0                  1                  2   \n",
       "\n",
       "   Ambiente home-office adequado para o trabalho?   \\\n",
       "0                                                0   \n",
       "1                                                0   \n",
       "2                                                0   \n",
       "3                                                1   \n",
       "4                                                0   \n",
       "\n",
       "   Quantidade de horas para executar as demandas diárias?  \\\n",
       "0                                                  6        \n",
       "1                                                  7        \n",
       "2                                                  9        \n",
       "3                                                  8        \n",
       "4                                                 10        \n",
       "\n",
       "   Índice de fadiga mental ( como você avalia seu desgaste mental enquanto trabalha)  \\\n",
       "0                                                  5                                   \n",
       "1                                                  8                                   \n",
       "2                                                  9                                   \n",
       "3                                                  7                                   \n",
       "4                                                  8                                   \n",
       "\n",
       "   ID  \n",
       "0   1  \n",
       "1   2  \n",
       "2   3  \n",
       "3   4  \n",
       "4   5  "
      ]
     },
     "execution_count": 78,
     "metadata": {},
     "output_type": "execute_result"
    }
   ],
   "source": [
    "df_form_oil.head(5)"
   ]
  },
  {
   "cell_type": "code",
   "execution_count": 79,
   "metadata": {},
   "outputs": [],
   "source": [
    "df_form_oil.columns=['Gender','Company Type','Designation','WFH Setup Available','Resource Allocation',\n",
    "                     'Mental Fatigue Score','ID']"
   ]
  },
  {
   "cell_type": "code",
   "execution_count": 80,
   "metadata": {},
   "outputs": [],
   "source": [
    "df_form_oil = df_form_oil[['ID','Gender', 'Company Type', 'WFH Setup Available', \n",
    "                         'Designation', 'Resource Allocation', 'Mental Fatigue Score']]"
   ]
  },
  {
   "cell_type": "code",
   "execution_count": 81,
   "metadata": {},
   "outputs": [
    {
     "data": {
      "text/plain": [
       "ID                      int64\n",
       "Gender                  int64\n",
       "Company Type            int64\n",
       "WFH Setup Available     int64\n",
       "Designation             int64\n",
       "Resource Allocation     int64\n",
       "Mental Fatigue Score    int64\n",
       "dtype: object"
      ]
     },
     "execution_count": 81,
     "metadata": {},
     "output_type": "execute_result"
    }
   ],
   "source": [
    "df_form_oil.dtypes"
   ]
  },
  {
   "cell_type": "code",
   "execution_count": 82,
   "metadata": {},
   "outputs": [
    {
     "data": {
      "text/html": [
       "<div>\n",
       "<style scoped>\n",
       "    .dataframe tbody tr th:only-of-type {\n",
       "        vertical-align: middle;\n",
       "    }\n",
       "\n",
       "    .dataframe tbody tr th {\n",
       "        vertical-align: top;\n",
       "    }\n",
       "\n",
       "    .dataframe thead th {\n",
       "        text-align: right;\n",
       "    }\n",
       "</style>\n",
       "<table border=\"1\" class=\"dataframe\">\n",
       "  <thead>\n",
       "    <tr style=\"text-align: right;\">\n",
       "      <th></th>\n",
       "      <th>ID</th>\n",
       "      <th>Gender</th>\n",
       "      <th>Company Type</th>\n",
       "      <th>WFH Setup Available</th>\n",
       "      <th>Designation</th>\n",
       "      <th>Resource Allocation</th>\n",
       "      <th>Mental Fatigue Score</th>\n",
       "    </tr>\n",
       "  </thead>\n",
       "  <tbody>\n",
       "    <tr>\n",
       "      <th>0</th>\n",
       "      <td>1</td>\n",
       "      <td>0</td>\n",
       "      <td>1</td>\n",
       "      <td>0</td>\n",
       "      <td>1</td>\n",
       "      <td>6</td>\n",
       "      <td>5</td>\n",
       "    </tr>\n",
       "    <tr>\n",
       "      <th>1</th>\n",
       "      <td>2</td>\n",
       "      <td>0</td>\n",
       "      <td>1</td>\n",
       "      <td>0</td>\n",
       "      <td>2</td>\n",
       "      <td>7</td>\n",
       "      <td>8</td>\n",
       "    </tr>\n",
       "    <tr>\n",
       "      <th>2</th>\n",
       "      <td>3</td>\n",
       "      <td>1</td>\n",
       "      <td>1</td>\n",
       "      <td>0</td>\n",
       "      <td>2</td>\n",
       "      <td>9</td>\n",
       "      <td>9</td>\n",
       "    </tr>\n",
       "    <tr>\n",
       "      <th>3</th>\n",
       "      <td>4</td>\n",
       "      <td>0</td>\n",
       "      <td>1</td>\n",
       "      <td>1</td>\n",
       "      <td>2</td>\n",
       "      <td>8</td>\n",
       "      <td>7</td>\n",
       "    </tr>\n",
       "    <tr>\n",
       "      <th>4</th>\n",
       "      <td>5</td>\n",
       "      <td>0</td>\n",
       "      <td>1</td>\n",
       "      <td>0</td>\n",
       "      <td>2</td>\n",
       "      <td>10</td>\n",
       "      <td>8</td>\n",
       "    </tr>\n",
       "  </tbody>\n",
       "</table>\n",
       "</div>"
      ],
      "text/plain": [
       "   ID  Gender  Company Type  WFH Setup Available  Designation  \\\n",
       "0   1       0             1                    0            1   \n",
       "1   2       0             1                    0            2   \n",
       "2   3       1             1                    0            2   \n",
       "3   4       0             1                    1            2   \n",
       "4   5       0             1                    0            2   \n",
       "\n",
       "   Resource Allocation  Mental Fatigue Score  \n",
       "0                    6                     5  \n",
       "1                    7                     8  \n",
       "2                    9                     9  \n",
       "3                    8                     7  \n",
       "4                   10                     8  "
      ]
     },
     "execution_count": 82,
     "metadata": {},
     "output_type": "execute_result"
    }
   ],
   "source": [
    "# Dataset limpo e pronto para predição\n",
    "df_form_oil.head(5)"
   ]
  },
  {
   "cell_type": "markdown",
   "metadata": {},
   "source": [
    "## Predição Datasets Oil&Gàs"
   ]
  },
  {
   "cell_type": "code",
   "execution_count": 83,
   "metadata": {},
   "outputs": [],
   "source": [
    "oil_pred = best_model_xgb.predict(df_form_oil.drop('ID', axis=1))"
   ]
  },
  {
   "cell_type": "code",
   "execution_count": 84,
   "metadata": {},
   "outputs": [],
   "source": [
    "result_oil = pd.DataFrame(oil_pred, index = df_form_oil['ID'], columns = ['Burn Rate'])"
   ]
  },
  {
   "cell_type": "code",
   "execution_count": 85,
   "metadata": {},
   "outputs": [
    {
     "data": {
      "text/plain": [
       "Burn Rate    37\n",
       "dtype: int64"
      ]
     },
     "execution_count": 85,
     "metadata": {},
     "output_type": "execute_result"
    }
   ],
   "source": [
    "# Analisando criticidade do Burn Rate acima de 0,7\n",
    "critc_oil = result_oil['Burn Rate'] >= 0.7\n",
    "result_oil[critc_oil].count()"
   ]
  },
  {
   "cell_type": "code",
   "execution_count": 86,
   "metadata": {},
   "outputs": [
    {
     "data": {
      "text/html": [
       "<div>\n",
       "<style scoped>\n",
       "    .dataframe tbody tr th:only-of-type {\n",
       "        vertical-align: middle;\n",
       "    }\n",
       "\n",
       "    .dataframe tbody tr th {\n",
       "        vertical-align: top;\n",
       "    }\n",
       "\n",
       "    .dataframe thead th {\n",
       "        text-align: right;\n",
       "    }\n",
       "</style>\n",
       "<table border=\"1\" class=\"dataframe\">\n",
       "  <thead>\n",
       "    <tr style=\"text-align: right;\">\n",
       "      <th></th>\n",
       "      <th>Burn Rate</th>\n",
       "    </tr>\n",
       "    <tr>\n",
       "      <th>ID</th>\n",
       "      <th></th>\n",
       "    </tr>\n",
       "  </thead>\n",
       "  <tbody>\n",
       "    <tr>\n",
       "      <th>2</th>\n",
       "      <td>0.718301</td>\n",
       "    </tr>\n",
       "    <tr>\n",
       "      <th>3</th>\n",
       "      <td>0.838453</td>\n",
       "    </tr>\n",
       "    <tr>\n",
       "      <th>4</th>\n",
       "      <td>0.728272</td>\n",
       "    </tr>\n",
       "    <tr>\n",
       "      <th>5</th>\n",
       "      <td>0.854411</td>\n",
       "    </tr>\n",
       "    <tr>\n",
       "      <th>7</th>\n",
       "      <td>0.769647</td>\n",
       "    </tr>\n",
       "    <tr>\n",
       "      <th>8</th>\n",
       "      <td>0.788835</td>\n",
       "    </tr>\n",
       "    <tr>\n",
       "      <th>9</th>\n",
       "      <td>0.769647</td>\n",
       "    </tr>\n",
       "    <tr>\n",
       "      <th>10</th>\n",
       "      <td>0.795664</td>\n",
       "    </tr>\n",
       "    <tr>\n",
       "      <th>11</th>\n",
       "      <td>0.787957</td>\n",
       "    </tr>\n",
       "    <tr>\n",
       "      <th>12</th>\n",
       "      <td>0.728272</td>\n",
       "    </tr>\n",
       "    <tr>\n",
       "      <th>15</th>\n",
       "      <td>0.797174</td>\n",
       "    </tr>\n",
       "    <tr>\n",
       "      <th>16</th>\n",
       "      <td>0.769647</td>\n",
       "    </tr>\n",
       "    <tr>\n",
       "      <th>17</th>\n",
       "      <td>0.730804</td>\n",
       "    </tr>\n",
       "    <tr>\n",
       "      <th>18</th>\n",
       "      <td>0.777601</td>\n",
       "    </tr>\n",
       "    <tr>\n",
       "      <th>19</th>\n",
       "      <td>0.788748</td>\n",
       "    </tr>\n",
       "    <tr>\n",
       "      <th>23</th>\n",
       "      <td>0.734153</td>\n",
       "    </tr>\n",
       "    <tr>\n",
       "      <th>25</th>\n",
       "      <td>0.770056</td>\n",
       "    </tr>\n",
       "    <tr>\n",
       "      <th>26</th>\n",
       "      <td>0.764319</td>\n",
       "    </tr>\n",
       "    <tr>\n",
       "      <th>28</th>\n",
       "      <td>0.722396</td>\n",
       "    </tr>\n",
       "    <tr>\n",
       "      <th>29</th>\n",
       "      <td>0.847343</td>\n",
       "    </tr>\n",
       "    <tr>\n",
       "      <th>30</th>\n",
       "      <td>0.778318</td>\n",
       "    </tr>\n",
       "    <tr>\n",
       "      <th>32</th>\n",
       "      <td>0.839032</td>\n",
       "    </tr>\n",
       "    <tr>\n",
       "      <th>35</th>\n",
       "      <td>0.715314</td>\n",
       "    </tr>\n",
       "    <tr>\n",
       "      <th>39</th>\n",
       "      <td>0.715314</td>\n",
       "    </tr>\n",
       "    <tr>\n",
       "      <th>41</th>\n",
       "      <td>0.757339</td>\n",
       "    </tr>\n",
       "    <tr>\n",
       "      <th>43</th>\n",
       "      <td>0.764319</td>\n",
       "    </tr>\n",
       "    <tr>\n",
       "      <th>46</th>\n",
       "      <td>0.757339</td>\n",
       "    </tr>\n",
       "    <tr>\n",
       "      <th>47</th>\n",
       "      <td>0.923358</td>\n",
       "    </tr>\n",
       "    <tr>\n",
       "      <th>49</th>\n",
       "      <td>0.769647</td>\n",
       "    </tr>\n",
       "    <tr>\n",
       "      <th>50</th>\n",
       "      <td>0.842552</td>\n",
       "    </tr>\n",
       "    <tr>\n",
       "      <th>51</th>\n",
       "      <td>0.944308</td>\n",
       "    </tr>\n",
       "    <tr>\n",
       "      <th>52</th>\n",
       "      <td>0.720723</td>\n",
       "    </tr>\n",
       "    <tr>\n",
       "      <th>53</th>\n",
       "      <td>0.720723</td>\n",
       "    </tr>\n",
       "    <tr>\n",
       "      <th>55</th>\n",
       "      <td>0.764034</td>\n",
       "    </tr>\n",
       "    <tr>\n",
       "      <th>56</th>\n",
       "      <td>0.839032</td>\n",
       "    </tr>\n",
       "    <tr>\n",
       "      <th>59</th>\n",
       "      <td>0.838039</td>\n",
       "    </tr>\n",
       "    <tr>\n",
       "      <th>60</th>\n",
       "      <td>0.797939</td>\n",
       "    </tr>\n",
       "  </tbody>\n",
       "</table>\n",
       "</div>"
      ],
      "text/plain": [
       "    Burn Rate\n",
       "ID           \n",
       "2    0.718301\n",
       "3    0.838453\n",
       "4    0.728272\n",
       "5    0.854411\n",
       "7    0.769647\n",
       "8    0.788835\n",
       "9    0.769647\n",
       "10   0.795664\n",
       "11   0.787957\n",
       "12   0.728272\n",
       "15   0.797174\n",
       "16   0.769647\n",
       "17   0.730804\n",
       "18   0.777601\n",
       "19   0.788748\n",
       "23   0.734153\n",
       "25   0.770056\n",
       "26   0.764319\n",
       "28   0.722396\n",
       "29   0.847343\n",
       "30   0.778318\n",
       "32   0.839032\n",
       "35   0.715314\n",
       "39   0.715314\n",
       "41   0.757339\n",
       "43   0.764319\n",
       "46   0.757339\n",
       "47   0.923358\n",
       "49   0.769647\n",
       "50   0.842552\n",
       "51   0.944308\n",
       "52   0.720723\n",
       "53   0.720723\n",
       "55   0.764034\n",
       "56   0.839032\n",
       "59   0.838039\n",
       "60   0.797939"
      ]
     },
     "execution_count": 86,
     "metadata": {},
     "output_type": "execute_result"
    }
   ],
   "source": [
    "result_oil[critc_oil]"
   ]
  },
  {
   "cell_type": "code",
   "execution_count": 87,
   "metadata": {},
   "outputs": [
    {
     "data": {
      "text/plain": [
       "Burn Rate    9\n",
       "dtype: int64"
      ]
     },
     "execution_count": 87,
     "metadata": {},
     "output_type": "execute_result"
    }
   ],
   "source": [
    "# Analisando criticidade do Burn Rate dentro dos 0,7 os que estão acima de 0,8\n",
    "critc_oil = result_oil['Burn Rate'] >= 0.8\n",
    "result_oil[critc_oil].count()"
   ]
  },
  {
   "cell_type": "code",
   "execution_count": 88,
   "metadata": {},
   "outputs": [
    {
     "data": {
      "text/html": [
       "<div>\n",
       "<style scoped>\n",
       "    .dataframe tbody tr th:only-of-type {\n",
       "        vertical-align: middle;\n",
       "    }\n",
       "\n",
       "    .dataframe tbody tr th {\n",
       "        vertical-align: top;\n",
       "    }\n",
       "\n",
       "    .dataframe thead th {\n",
       "        text-align: right;\n",
       "    }\n",
       "</style>\n",
       "<table border=\"1\" class=\"dataframe\">\n",
       "  <thead>\n",
       "    <tr style=\"text-align: right;\">\n",
       "      <th></th>\n",
       "      <th>Burn Rate</th>\n",
       "    </tr>\n",
       "    <tr>\n",
       "      <th>ID</th>\n",
       "      <th></th>\n",
       "    </tr>\n",
       "  </thead>\n",
       "  <tbody>\n",
       "    <tr>\n",
       "      <th>3</th>\n",
       "      <td>0.838453</td>\n",
       "    </tr>\n",
       "    <tr>\n",
       "      <th>5</th>\n",
       "      <td>0.854411</td>\n",
       "    </tr>\n",
       "    <tr>\n",
       "      <th>29</th>\n",
       "      <td>0.847343</td>\n",
       "    </tr>\n",
       "    <tr>\n",
       "      <th>32</th>\n",
       "      <td>0.839032</td>\n",
       "    </tr>\n",
       "    <tr>\n",
       "      <th>47</th>\n",
       "      <td>0.923358</td>\n",
       "    </tr>\n",
       "    <tr>\n",
       "      <th>50</th>\n",
       "      <td>0.842552</td>\n",
       "    </tr>\n",
       "    <tr>\n",
       "      <th>51</th>\n",
       "      <td>0.944308</td>\n",
       "    </tr>\n",
       "    <tr>\n",
       "      <th>56</th>\n",
       "      <td>0.839032</td>\n",
       "    </tr>\n",
       "    <tr>\n",
       "      <th>59</th>\n",
       "      <td>0.838039</td>\n",
       "    </tr>\n",
       "  </tbody>\n",
       "</table>\n",
       "</div>"
      ],
      "text/plain": [
       "    Burn Rate\n",
       "ID           \n",
       "3    0.838453\n",
       "5    0.854411\n",
       "29   0.847343\n",
       "32   0.839032\n",
       "47   0.923358\n",
       "50   0.842552\n",
       "51   0.944308\n",
       "56   0.839032\n",
       "59   0.838039"
      ]
     },
     "execution_count": 88,
     "metadata": {},
     "output_type": "execute_result"
    }
   ],
   "source": [
    "result_oil[critc_oil]"
   ]
  }
 ],
 "metadata": {
  "kernelspec": {
   "display_name": "Python 3",
   "language": "python",
   "name": "python3"
  },
  "language_info": {
   "codemirror_mode": {
    "name": "ipython",
    "version": 3
   },
   "file_extension": ".py",
   "mimetype": "text/x-python",
   "name": "python",
   "nbconvert_exporter": "python",
   "pygments_lexer": "ipython3",
   "version": "3.8.5"
  }
 },
 "nbformat": 4,
 "nbformat_minor": 4
}
